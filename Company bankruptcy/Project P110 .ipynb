{
 "cells": [
  {
   "cell_type": "code",
   "execution_count": 2,
   "id": "d729dc60",
   "metadata": {},
   "outputs": [],
   "source": [
    "import pandas as pd\n",
    "import numpy as np\n",
    "import matplotlib.pyplot as plt\n",
    "%matplotlib inline\n",
    "from sklearn import preprocessing\n",
    "import pickle\n",
    "import seaborn as sns\n",
    "from sklearn.linear_model import LogisticRegression\n",
    "from sklearn.model_selection import train_test_split\n",
    "from sklearn.metrics import accuracy_score as ac\n"
   ]
  },
  {
   "cell_type": "code",
   "execution_count": 3,
   "id": "68388e2d",
   "metadata": {},
   "outputs": [],
   "source": [
    "df = pd.read_csv(\"bankruptcy-prevention.csv\",sep = \";\") \n"
   ]
  },
  {
   "cell_type": "code",
   "execution_count": 4,
   "id": "67169a4d",
   "metadata": {},
   "outputs": [],
   "source": [
    "df.columns = [\"Indstrial_Risk\",\"Management_Risk\",\"Financial_Flexibility\",\"Credibility\",\"Competitive\",\"Operating_Risk\",\"Class\"]"
   ]
  },
  {
   "cell_type": "code",
   "execution_count": 5,
   "id": "019b51fc",
   "metadata": {},
   "outputs": [
    {
     "data": {
      "text/html": [
       "<div>\n",
       "<style scoped>\n",
       "    .dataframe tbody tr th:only-of-type {\n",
       "        vertical-align: middle;\n",
       "    }\n",
       "\n",
       "    .dataframe tbody tr th {\n",
       "        vertical-align: top;\n",
       "    }\n",
       "\n",
       "    .dataframe thead th {\n",
       "        text-align: right;\n",
       "    }\n",
       "</style>\n",
       "<table border=\"1\" class=\"dataframe\">\n",
       "  <thead>\n",
       "    <tr style=\"text-align: right;\">\n",
       "      <th></th>\n",
       "      <th>Indstrial_Risk</th>\n",
       "      <th>Management_Risk</th>\n",
       "      <th>Financial_Flexibility</th>\n",
       "      <th>Credibility</th>\n",
       "      <th>Competitive</th>\n",
       "      <th>Operating_Risk</th>\n",
       "      <th>Class</th>\n",
       "    </tr>\n",
       "  </thead>\n",
       "  <tbody>\n",
       "    <tr>\n",
       "      <th>0</th>\n",
       "      <td>0.5</td>\n",
       "      <td>1.0</td>\n",
       "      <td>0.0</td>\n",
       "      <td>0.0</td>\n",
       "      <td>0.0</td>\n",
       "      <td>0.5</td>\n",
       "      <td>bankruptcy</td>\n",
       "    </tr>\n",
       "    <tr>\n",
       "      <th>1</th>\n",
       "      <td>0.0</td>\n",
       "      <td>1.0</td>\n",
       "      <td>0.0</td>\n",
       "      <td>0.0</td>\n",
       "      <td>0.0</td>\n",
       "      <td>1.0</td>\n",
       "      <td>bankruptcy</td>\n",
       "    </tr>\n",
       "    <tr>\n",
       "      <th>2</th>\n",
       "      <td>1.0</td>\n",
       "      <td>0.0</td>\n",
       "      <td>0.0</td>\n",
       "      <td>0.0</td>\n",
       "      <td>0.0</td>\n",
       "      <td>1.0</td>\n",
       "      <td>bankruptcy</td>\n",
       "    </tr>\n",
       "    <tr>\n",
       "      <th>3</th>\n",
       "      <td>0.5</td>\n",
       "      <td>0.0</td>\n",
       "      <td>0.0</td>\n",
       "      <td>0.5</td>\n",
       "      <td>0.0</td>\n",
       "      <td>1.0</td>\n",
       "      <td>bankruptcy</td>\n",
       "    </tr>\n",
       "    <tr>\n",
       "      <th>4</th>\n",
       "      <td>1.0</td>\n",
       "      <td>1.0</td>\n",
       "      <td>0.0</td>\n",
       "      <td>0.0</td>\n",
       "      <td>0.0</td>\n",
       "      <td>1.0</td>\n",
       "      <td>bankruptcy</td>\n",
       "    </tr>\n",
       "  </tbody>\n",
       "</table>\n",
       "</div>"
      ],
      "text/plain": [
       "   Indstrial_Risk  Management_Risk  Financial_Flexibility  Credibility  \\\n",
       "0             0.5              1.0                    0.0          0.0   \n",
       "1             0.0              1.0                    0.0          0.0   \n",
       "2             1.0              0.0                    0.0          0.0   \n",
       "3             0.5              0.0                    0.0          0.5   \n",
       "4             1.0              1.0                    0.0          0.0   \n",
       "\n",
       "   Competitive  Operating_Risk       Class  \n",
       "0          0.0             0.5  bankruptcy  \n",
       "1          0.0             1.0  bankruptcy  \n",
       "2          0.0             1.0  bankruptcy  \n",
       "3          0.0             1.0  bankruptcy  \n",
       "4          0.0             1.0  bankruptcy  "
      ]
     },
     "execution_count": 5,
     "metadata": {},
     "output_type": "execute_result"
    }
   ],
   "source": [
    "df.head()"
   ]
  },
  {
   "cell_type": "code",
   "execution_count": 6,
   "id": "859c07be",
   "metadata": {},
   "outputs": [
    {
     "data": {
      "text/html": [
       "<div>\n",
       "<style scoped>\n",
       "    .dataframe tbody tr th:only-of-type {\n",
       "        vertical-align: middle;\n",
       "    }\n",
       "\n",
       "    .dataframe tbody tr th {\n",
       "        vertical-align: top;\n",
       "    }\n",
       "\n",
       "    .dataframe thead th {\n",
       "        text-align: right;\n",
       "    }\n",
       "</style>\n",
       "<table border=\"1\" class=\"dataframe\">\n",
       "  <thead>\n",
       "    <tr style=\"text-align: right;\">\n",
       "      <th></th>\n",
       "      <th>Indstrial_Risk</th>\n",
       "      <th>Management_Risk</th>\n",
       "      <th>Financial_Flexibility</th>\n",
       "      <th>Credibility</th>\n",
       "      <th>Competitive</th>\n",
       "      <th>Operating_Risk</th>\n",
       "      <th>Class</th>\n",
       "    </tr>\n",
       "  </thead>\n",
       "  <tbody>\n",
       "    <tr>\n",
       "      <th>245</th>\n",
       "      <td>0.0</td>\n",
       "      <td>1.0</td>\n",
       "      <td>1.0</td>\n",
       "      <td>1.0</td>\n",
       "      <td>1.0</td>\n",
       "      <td>1.0</td>\n",
       "      <td>non-bankruptcy</td>\n",
       "    </tr>\n",
       "    <tr>\n",
       "      <th>246</th>\n",
       "      <td>1.0</td>\n",
       "      <td>1.0</td>\n",
       "      <td>0.5</td>\n",
       "      <td>1.0</td>\n",
       "      <td>1.0</td>\n",
       "      <td>0.0</td>\n",
       "      <td>non-bankruptcy</td>\n",
       "    </tr>\n",
       "    <tr>\n",
       "      <th>247</th>\n",
       "      <td>0.0</td>\n",
       "      <td>1.0</td>\n",
       "      <td>1.0</td>\n",
       "      <td>0.5</td>\n",
       "      <td>0.5</td>\n",
       "      <td>0.0</td>\n",
       "      <td>non-bankruptcy</td>\n",
       "    </tr>\n",
       "    <tr>\n",
       "      <th>248</th>\n",
       "      <td>1.0</td>\n",
       "      <td>0.0</td>\n",
       "      <td>0.5</td>\n",
       "      <td>1.0</td>\n",
       "      <td>0.5</td>\n",
       "      <td>0.0</td>\n",
       "      <td>non-bankruptcy</td>\n",
       "    </tr>\n",
       "    <tr>\n",
       "      <th>249</th>\n",
       "      <td>1.0</td>\n",
       "      <td>0.0</td>\n",
       "      <td>0.5</td>\n",
       "      <td>0.5</td>\n",
       "      <td>1.0</td>\n",
       "      <td>1.0</td>\n",
       "      <td>non-bankruptcy</td>\n",
       "    </tr>\n",
       "  </tbody>\n",
       "</table>\n",
       "</div>"
      ],
      "text/plain": [
       "     Indstrial_Risk  Management_Risk  Financial_Flexibility  Credibility  \\\n",
       "245             0.0              1.0                    1.0          1.0   \n",
       "246             1.0              1.0                    0.5          1.0   \n",
       "247             0.0              1.0                    1.0          0.5   \n",
       "248             1.0              0.0                    0.5          1.0   \n",
       "249             1.0              0.0                    0.5          0.5   \n",
       "\n",
       "     Competitive  Operating_Risk           Class  \n",
       "245          1.0             1.0  non-bankruptcy  \n",
       "246          1.0             0.0  non-bankruptcy  \n",
       "247          0.5             0.0  non-bankruptcy  \n",
       "248          0.5             0.0  non-bankruptcy  \n",
       "249          1.0             1.0  non-bankruptcy  "
      ]
     },
     "execution_count": 6,
     "metadata": {},
     "output_type": "execute_result"
    }
   ],
   "source": [
    "df.tail()"
   ]
  },
  {
   "cell_type": "code",
   "execution_count": 7,
   "id": "3f47a352",
   "metadata": {},
   "outputs": [
    {
     "data": {
      "text/plain": [
       "Indstrial_Risk           0\n",
       "Management_Risk          0\n",
       "Financial_Flexibility    0\n",
       "Credibility              0\n",
       "Competitive              0\n",
       "Operating_Risk           0\n",
       "Class                    0\n",
       "dtype: int64"
      ]
     },
     "execution_count": 7,
     "metadata": {},
     "output_type": "execute_result"
    }
   ],
   "source": [
    "df.isna().sum()"
   ]
  },
  {
   "cell_type": "code",
   "execution_count": 8,
   "id": "34e2ae4e",
   "metadata": {},
   "outputs": [
    {
     "data": {
      "text/html": [
       "<div>\n",
       "<style scoped>\n",
       "    .dataframe tbody tr th:only-of-type {\n",
       "        vertical-align: middle;\n",
       "    }\n",
       "\n",
       "    .dataframe tbody tr th {\n",
       "        vertical-align: top;\n",
       "    }\n",
       "\n",
       "    .dataframe thead th {\n",
       "        text-align: right;\n",
       "    }\n",
       "</style>\n",
       "<table border=\"1\" class=\"dataframe\">\n",
       "  <thead>\n",
       "    <tr style=\"text-align: right;\">\n",
       "      <th></th>\n",
       "      <th>Indstrial_Risk</th>\n",
       "      <th>Management_Risk</th>\n",
       "      <th>Financial_Flexibility</th>\n",
       "      <th>Credibility</th>\n",
       "      <th>Competitive</th>\n",
       "      <th>Operating_Risk</th>\n",
       "    </tr>\n",
       "  </thead>\n",
       "  <tbody>\n",
       "    <tr>\n",
       "      <th>count</th>\n",
       "      <td>250.000000</td>\n",
       "      <td>250.000000</td>\n",
       "      <td>250.000000</td>\n",
       "      <td>250.000000</td>\n",
       "      <td>250.000000</td>\n",
       "      <td>250.000000</td>\n",
       "    </tr>\n",
       "    <tr>\n",
       "      <th>mean</th>\n",
       "      <td>0.518000</td>\n",
       "      <td>0.614000</td>\n",
       "      <td>0.376000</td>\n",
       "      <td>0.470000</td>\n",
       "      <td>0.476000</td>\n",
       "      <td>0.570000</td>\n",
       "    </tr>\n",
       "    <tr>\n",
       "      <th>std</th>\n",
       "      <td>0.411526</td>\n",
       "      <td>0.410705</td>\n",
       "      <td>0.401583</td>\n",
       "      <td>0.415682</td>\n",
       "      <td>0.440682</td>\n",
       "      <td>0.434575</td>\n",
       "    </tr>\n",
       "    <tr>\n",
       "      <th>min</th>\n",
       "      <td>0.000000</td>\n",
       "      <td>0.000000</td>\n",
       "      <td>0.000000</td>\n",
       "      <td>0.000000</td>\n",
       "      <td>0.000000</td>\n",
       "      <td>0.000000</td>\n",
       "    </tr>\n",
       "    <tr>\n",
       "      <th>25%</th>\n",
       "      <td>0.000000</td>\n",
       "      <td>0.500000</td>\n",
       "      <td>0.000000</td>\n",
       "      <td>0.000000</td>\n",
       "      <td>0.000000</td>\n",
       "      <td>0.000000</td>\n",
       "    </tr>\n",
       "    <tr>\n",
       "      <th>50%</th>\n",
       "      <td>0.500000</td>\n",
       "      <td>0.500000</td>\n",
       "      <td>0.500000</td>\n",
       "      <td>0.500000</td>\n",
       "      <td>0.500000</td>\n",
       "      <td>0.500000</td>\n",
       "    </tr>\n",
       "    <tr>\n",
       "      <th>75%</th>\n",
       "      <td>1.000000</td>\n",
       "      <td>1.000000</td>\n",
       "      <td>0.500000</td>\n",
       "      <td>1.000000</td>\n",
       "      <td>1.000000</td>\n",
       "      <td>1.000000</td>\n",
       "    </tr>\n",
       "    <tr>\n",
       "      <th>max</th>\n",
       "      <td>1.000000</td>\n",
       "      <td>1.000000</td>\n",
       "      <td>1.000000</td>\n",
       "      <td>1.000000</td>\n",
       "      <td>1.000000</td>\n",
       "      <td>1.000000</td>\n",
       "    </tr>\n",
       "  </tbody>\n",
       "</table>\n",
       "</div>"
      ],
      "text/plain": [
       "       Indstrial_Risk  Management_Risk  Financial_Flexibility  Credibility  \\\n",
       "count      250.000000       250.000000             250.000000   250.000000   \n",
       "mean         0.518000         0.614000               0.376000     0.470000   \n",
       "std          0.411526         0.410705               0.401583     0.415682   \n",
       "min          0.000000         0.000000               0.000000     0.000000   \n",
       "25%          0.000000         0.500000               0.000000     0.000000   \n",
       "50%          0.500000         0.500000               0.500000     0.500000   \n",
       "75%          1.000000         1.000000               0.500000     1.000000   \n",
       "max          1.000000         1.000000               1.000000     1.000000   \n",
       "\n",
       "       Competitive  Operating_Risk  \n",
       "count   250.000000      250.000000  \n",
       "mean      0.476000        0.570000  \n",
       "std       0.440682        0.434575  \n",
       "min       0.000000        0.000000  \n",
       "25%       0.000000        0.000000  \n",
       "50%       0.500000        0.500000  \n",
       "75%       1.000000        1.000000  \n",
       "max       1.000000        1.000000  "
      ]
     },
     "execution_count": 8,
     "metadata": {},
     "output_type": "execute_result"
    }
   ],
   "source": [
    "df.describe()"
   ]
  },
  {
   "cell_type": "code",
   "execution_count": 9,
   "id": "7ad10563",
   "metadata": {},
   "outputs": [],
   "source": [
    "df[\"Class\"]=preprocessing.LabelEncoder().fit_transform(df[\"Class\"])"
   ]
  },
  {
   "cell_type": "code",
   "execution_count": 10,
   "id": "e80381f2",
   "metadata": {},
   "outputs": [
    {
     "data": {
      "text/html": [
       "<div>\n",
       "<style scoped>\n",
       "    .dataframe tbody tr th:only-of-type {\n",
       "        vertical-align: middle;\n",
       "    }\n",
       "\n",
       "    .dataframe tbody tr th {\n",
       "        vertical-align: top;\n",
       "    }\n",
       "\n",
       "    .dataframe thead th {\n",
       "        text-align: right;\n",
       "    }\n",
       "</style>\n",
       "<table border=\"1\" class=\"dataframe\">\n",
       "  <thead>\n",
       "    <tr style=\"text-align: right;\">\n",
       "      <th></th>\n",
       "      <th>Indstrial_Risk</th>\n",
       "      <th>Management_Risk</th>\n",
       "      <th>Financial_Flexibility</th>\n",
       "      <th>Credibility</th>\n",
       "      <th>Competitive</th>\n",
       "      <th>Operating_Risk</th>\n",
       "      <th>Class</th>\n",
       "    </tr>\n",
       "  </thead>\n",
       "  <tbody>\n",
       "    <tr>\n",
       "      <th>0</th>\n",
       "      <td>0.5</td>\n",
       "      <td>1.0</td>\n",
       "      <td>0.0</td>\n",
       "      <td>0.0</td>\n",
       "      <td>0.0</td>\n",
       "      <td>0.5</td>\n",
       "      <td>0</td>\n",
       "    </tr>\n",
       "    <tr>\n",
       "      <th>1</th>\n",
       "      <td>0.0</td>\n",
       "      <td>1.0</td>\n",
       "      <td>0.0</td>\n",
       "      <td>0.0</td>\n",
       "      <td>0.0</td>\n",
       "      <td>1.0</td>\n",
       "      <td>0</td>\n",
       "    </tr>\n",
       "    <tr>\n",
       "      <th>2</th>\n",
       "      <td>1.0</td>\n",
       "      <td>0.0</td>\n",
       "      <td>0.0</td>\n",
       "      <td>0.0</td>\n",
       "      <td>0.0</td>\n",
       "      <td>1.0</td>\n",
       "      <td>0</td>\n",
       "    </tr>\n",
       "    <tr>\n",
       "      <th>3</th>\n",
       "      <td>0.5</td>\n",
       "      <td>0.0</td>\n",
       "      <td>0.0</td>\n",
       "      <td>0.5</td>\n",
       "      <td>0.0</td>\n",
       "      <td>1.0</td>\n",
       "      <td>0</td>\n",
       "    </tr>\n",
       "    <tr>\n",
       "      <th>4</th>\n",
       "      <td>1.0</td>\n",
       "      <td>1.0</td>\n",
       "      <td>0.0</td>\n",
       "      <td>0.0</td>\n",
       "      <td>0.0</td>\n",
       "      <td>1.0</td>\n",
       "      <td>0</td>\n",
       "    </tr>\n",
       "    <tr>\n",
       "      <th>...</th>\n",
       "      <td>...</td>\n",
       "      <td>...</td>\n",
       "      <td>...</td>\n",
       "      <td>...</td>\n",
       "      <td>...</td>\n",
       "      <td>...</td>\n",
       "      <td>...</td>\n",
       "    </tr>\n",
       "    <tr>\n",
       "      <th>245</th>\n",
       "      <td>0.0</td>\n",
       "      <td>1.0</td>\n",
       "      <td>1.0</td>\n",
       "      <td>1.0</td>\n",
       "      <td>1.0</td>\n",
       "      <td>1.0</td>\n",
       "      <td>1</td>\n",
       "    </tr>\n",
       "    <tr>\n",
       "      <th>246</th>\n",
       "      <td>1.0</td>\n",
       "      <td>1.0</td>\n",
       "      <td>0.5</td>\n",
       "      <td>1.0</td>\n",
       "      <td>1.0</td>\n",
       "      <td>0.0</td>\n",
       "      <td>1</td>\n",
       "    </tr>\n",
       "    <tr>\n",
       "      <th>247</th>\n",
       "      <td>0.0</td>\n",
       "      <td>1.0</td>\n",
       "      <td>1.0</td>\n",
       "      <td>0.5</td>\n",
       "      <td>0.5</td>\n",
       "      <td>0.0</td>\n",
       "      <td>1</td>\n",
       "    </tr>\n",
       "    <tr>\n",
       "      <th>248</th>\n",
       "      <td>1.0</td>\n",
       "      <td>0.0</td>\n",
       "      <td>0.5</td>\n",
       "      <td>1.0</td>\n",
       "      <td>0.5</td>\n",
       "      <td>0.0</td>\n",
       "      <td>1</td>\n",
       "    </tr>\n",
       "    <tr>\n",
       "      <th>249</th>\n",
       "      <td>1.0</td>\n",
       "      <td>0.0</td>\n",
       "      <td>0.5</td>\n",
       "      <td>0.5</td>\n",
       "      <td>1.0</td>\n",
       "      <td>1.0</td>\n",
       "      <td>1</td>\n",
       "    </tr>\n",
       "  </tbody>\n",
       "</table>\n",
       "<p>250 rows × 7 columns</p>\n",
       "</div>"
      ],
      "text/plain": [
       "     Indstrial_Risk  Management_Risk  Financial_Flexibility  Credibility  \\\n",
       "0               0.5              1.0                    0.0          0.0   \n",
       "1               0.0              1.0                    0.0          0.0   \n",
       "2               1.0              0.0                    0.0          0.0   \n",
       "3               0.5              0.0                    0.0          0.5   \n",
       "4               1.0              1.0                    0.0          0.0   \n",
       "..              ...              ...                    ...          ...   \n",
       "245             0.0              1.0                    1.0          1.0   \n",
       "246             1.0              1.0                    0.5          1.0   \n",
       "247             0.0              1.0                    1.0          0.5   \n",
       "248             1.0              0.0                    0.5          1.0   \n",
       "249             1.0              0.0                    0.5          0.5   \n",
       "\n",
       "     Competitive  Operating_Risk  Class  \n",
       "0            0.0             0.5      0  \n",
       "1            0.0             1.0      0  \n",
       "2            0.0             1.0      0  \n",
       "3            0.0             1.0      0  \n",
       "4            0.0             1.0      0  \n",
       "..           ...             ...    ...  \n",
       "245          1.0             1.0      1  \n",
       "246          1.0             0.0      1  \n",
       "247          0.5             0.0      1  \n",
       "248          0.5             0.0      1  \n",
       "249          1.0             1.0      1  \n",
       "\n",
       "[250 rows x 7 columns]"
      ]
     },
     "execution_count": 10,
     "metadata": {},
     "output_type": "execute_result"
    }
   ],
   "source": [
    "df"
   ]
  },
  {
   "cell_type": "code",
   "execution_count": 12,
   "id": "e27f09e7",
   "metadata": {},
   "outputs": [
    {
     "data": {
      "text/html": [
       "<div>\n",
       "<style scoped>\n",
       "    .dataframe tbody tr th:only-of-type {\n",
       "        vertical-align: middle;\n",
       "    }\n",
       "\n",
       "    .dataframe tbody tr th {\n",
       "        vertical-align: top;\n",
       "    }\n",
       "\n",
       "    .dataframe thead th {\n",
       "        text-align: right;\n",
       "    }\n",
       "</style>\n",
       "<table border=\"1\" class=\"dataframe\">\n",
       "  <thead>\n",
       "    <tr style=\"text-align: right;\">\n",
       "      <th></th>\n",
       "      <th>Indstrial_Risk</th>\n",
       "      <th>Management_Risk</th>\n",
       "      <th>Financial_Flexibility</th>\n",
       "      <th>Credibility</th>\n",
       "      <th>Competitive</th>\n",
       "      <th>Operating_Risk</th>\n",
       "      <th>Class</th>\n",
       "    </tr>\n",
       "  </thead>\n",
       "  <tbody>\n",
       "    <tr>\n",
       "      <th>11</th>\n",
       "      <td>0.0</td>\n",
       "      <td>1.0</td>\n",
       "      <td>0.0</td>\n",
       "      <td>0.0</td>\n",
       "      <td>0.0</td>\n",
       "      <td>1.0</td>\n",
       "      <td>0</td>\n",
       "    </tr>\n",
       "    <tr>\n",
       "      <th>13</th>\n",
       "      <td>1.0</td>\n",
       "      <td>1.0</td>\n",
       "      <td>0.0</td>\n",
       "      <td>0.0</td>\n",
       "      <td>0.0</td>\n",
       "      <td>1.0</td>\n",
       "      <td>0</td>\n",
       "    </tr>\n",
       "    <tr>\n",
       "      <th>15</th>\n",
       "      <td>0.5</td>\n",
       "      <td>1.0</td>\n",
       "      <td>0.0</td>\n",
       "      <td>0.0</td>\n",
       "      <td>0.0</td>\n",
       "      <td>0.5</td>\n",
       "      <td>0</td>\n",
       "    </tr>\n",
       "    <tr>\n",
       "      <th>16</th>\n",
       "      <td>0.5</td>\n",
       "      <td>1.0</td>\n",
       "      <td>0.0</td>\n",
       "      <td>0.0</td>\n",
       "      <td>0.0</td>\n",
       "      <td>0.5</td>\n",
       "      <td>0</td>\n",
       "    </tr>\n",
       "    <tr>\n",
       "      <th>18</th>\n",
       "      <td>0.5</td>\n",
       "      <td>1.0</td>\n",
       "      <td>0.0</td>\n",
       "      <td>0.0</td>\n",
       "      <td>0.0</td>\n",
       "      <td>1.0</td>\n",
       "      <td>0</td>\n",
       "    </tr>\n",
       "    <tr>\n",
       "      <th>...</th>\n",
       "      <td>...</td>\n",
       "      <td>...</td>\n",
       "      <td>...</td>\n",
       "      <td>...</td>\n",
       "      <td>...</td>\n",
       "      <td>...</td>\n",
       "      <td>...</td>\n",
       "    </tr>\n",
       "    <tr>\n",
       "      <th>245</th>\n",
       "      <td>0.0</td>\n",
       "      <td>1.0</td>\n",
       "      <td>1.0</td>\n",
       "      <td>1.0</td>\n",
       "      <td>1.0</td>\n",
       "      <td>1.0</td>\n",
       "      <td>1</td>\n",
       "    </tr>\n",
       "    <tr>\n",
       "      <th>246</th>\n",
       "      <td>1.0</td>\n",
       "      <td>1.0</td>\n",
       "      <td>0.5</td>\n",
       "      <td>1.0</td>\n",
       "      <td>1.0</td>\n",
       "      <td>0.0</td>\n",
       "      <td>1</td>\n",
       "    </tr>\n",
       "    <tr>\n",
       "      <th>247</th>\n",
       "      <td>0.0</td>\n",
       "      <td>1.0</td>\n",
       "      <td>1.0</td>\n",
       "      <td>0.5</td>\n",
       "      <td>0.5</td>\n",
       "      <td>0.0</td>\n",
       "      <td>1</td>\n",
       "    </tr>\n",
       "    <tr>\n",
       "      <th>248</th>\n",
       "      <td>1.0</td>\n",
       "      <td>0.0</td>\n",
       "      <td>0.5</td>\n",
       "      <td>1.0</td>\n",
       "      <td>0.5</td>\n",
       "      <td>0.0</td>\n",
       "      <td>1</td>\n",
       "    </tr>\n",
       "    <tr>\n",
       "      <th>249</th>\n",
       "      <td>1.0</td>\n",
       "      <td>0.0</td>\n",
       "      <td>0.5</td>\n",
       "      <td>0.5</td>\n",
       "      <td>1.0</td>\n",
       "      <td>1.0</td>\n",
       "      <td>1</td>\n",
       "    </tr>\n",
       "  </tbody>\n",
       "</table>\n",
       "<p>147 rows × 7 columns</p>\n",
       "</div>"
      ],
      "text/plain": [
       "     Indstrial_Risk  Management_Risk  Financial_Flexibility  Credibility  \\\n",
       "11              0.0              1.0                    0.0          0.0   \n",
       "13              1.0              1.0                    0.0          0.0   \n",
       "15              0.5              1.0                    0.0          0.0   \n",
       "16              0.5              1.0                    0.0          0.0   \n",
       "18              0.5              1.0                    0.0          0.0   \n",
       "..              ...              ...                    ...          ...   \n",
       "245             0.0              1.0                    1.0          1.0   \n",
       "246             1.0              1.0                    0.5          1.0   \n",
       "247             0.0              1.0                    1.0          0.5   \n",
       "248             1.0              0.0                    0.5          1.0   \n",
       "249             1.0              0.0                    0.5          0.5   \n",
       "\n",
       "     Competitive  Operating_Risk  Class  \n",
       "11           0.0             1.0      0  \n",
       "13           0.0             1.0      0  \n",
       "15           0.0             0.5      0  \n",
       "16           0.0             0.5      0  \n",
       "18           0.0             1.0      0  \n",
       "..           ...             ...    ...  \n",
       "245          1.0             1.0      1  \n",
       "246          1.0             0.0      1  \n",
       "247          0.5             0.0      1  \n",
       "248          0.5             0.0      1  \n",
       "249          1.0             1.0      1  \n",
       "\n",
       "[147 rows x 7 columns]"
      ]
     },
     "execution_count": 12,
     "metadata": {},
     "output_type": "execute_result"
    }
   ],
   "source": [
    "df[df.duplicated()]  # duplicated values cannot be removed because data will become weak"
   ]
  },
  {
   "cell_type": "code",
   "execution_count": 13,
   "id": "a450b2af",
   "metadata": {},
   "outputs": [
    {
     "data": {
      "text/plain": [
       "count    250.000000\n",
       "mean       0.572000\n",
       "std        0.495781\n",
       "min        0.000000\n",
       "25%        0.000000\n",
       "50%        1.000000\n",
       "75%        1.000000\n",
       "max        1.000000\n",
       "Name: Class, dtype: float64"
      ]
     },
     "execution_count": 13,
     "metadata": {},
     "output_type": "execute_result"
    }
   ],
   "source": [
    "df[\"Class\"].describe()"
   ]
  },
  {
   "cell_type": "code",
   "execution_count": 96,
   "id": "d775cca9",
   "metadata": {},
   "outputs": [
    {
     "data": {
      "text/plain": [
       "Text(0.5, 1.0, 'Financial_Flexibility')"
      ]
     },
     "execution_count": 96,
     "metadata": {},
     "output_type": "execute_result"
    },
    {
     "data": {
      "image/png": "[encoded data removed]",
      "text/plain": [
       "<Figure size 504x360 with 1 Axes>"
      ]
     },
     "metadata": {},
     "output_type": "display_data"
    }
   ],
   "source": [
    "import matplotlib.pyplot as plt\n",
    "import seaborn as sns\n",
    "# histogram of Class\n",
    "plt.figure(figsize = (7,5),facecolor = \"lightgreen\")\n",
    "df[\"Financial_Flexibility\"].hist()\n",
    "plt.title(\"Financial_Flexibility\")"
   ]
  },
  {
   "cell_type": "code",
   "execution_count": 97,
   "id": "2df6007b",
   "metadata": {},
   "outputs": [
    {
     "data": {
      "text/plain": [
       "<AxesSubplot:>"
      ]
     },
     "execution_count": 97,
     "metadata": {},
     "output_type": "execute_result"
    },
    {
     "data": {
      "image/png": "[encoded data removed]",
      "text/plain": [
       "<Figure size 432x288 with 2 Axes>"
      ]
     },
     "metadata": {
      "needs_background": "light"
     },
     "output_type": "display_data"
    }
   ],
   "source": [
    "import seaborn as sns\n",
    "cols = df.columns \n",
    "colours = ['#000099', '#ffff00'] # specify the colours - yellow is not missing. blue is missing.\n",
    "sns.heatmap(df[cols].isnull(),\n",
    "            cmap=sns.color_palette(colours))"
   ]
  },
  {
   "cell_type": "code",
   "execution_count": 98,
   "id": "0616c69d",
   "metadata": {},
   "outputs": [
    {
     "data": {
      "text/plain": [
       "Indstrial_Risk          -0.227823\n",
       "Management_Risk         -0.370838\n",
       "Financial_Flexibility    0.751020\n",
       "Credibility              0.755909\n",
       "Competitive              0.899452\n",
       "Operating_Risk          -0.279786\n",
       "Class                    1.000000\n",
       "Name: Class, dtype: float64"
      ]
     },
     "execution_count": 98,
     "metadata": {},
     "output_type": "execute_result"
    }
   ],
   "source": [
    "df[df.columns[0:]].corr()['Class'][:] "
   ]
  },
  {
   "cell_type": "code",
   "execution_count": 99,
   "id": "4fdc2db4",
   "metadata": {},
   "outputs": [
    {
     "data": {
      "image/png": "[encoded data removed]",
      "text/plain": [
       "<Figure size 504x504 with 2 Axes>"
      ]
     },
     "metadata": {
      "needs_background": "light"
     },
     "output_type": "display_data"
    }
   ],
   "source": [
    "plt.figure(figsize=(7,7))\n",
    "# plotting correlation heatmap\n",
    "dfplot=sns.heatmap(df.corr(),cmap=\"YlGnBu\", annot=True)\n",
    "  \n",
    "# displaying heatmap\n",
    "plt.show()"
   ]
  },
  {
   "cell_type": "code",
   "execution_count": 100,
   "id": "2c68aa70",
   "metadata": {},
   "outputs": [],
   "source": [
    "from sklearn import datasets\n",
    "from sklearn.feature_selection import SelectKBest\n",
    "from sklearn.feature_selection import chi2"
   ]
  },
  {
   "cell_type": "code",
   "execution_count": 101,
   "id": "e463be03",
   "metadata": {},
   "outputs": [
    {
     "name": "stdout",
     "output_type": "stream",
     "text": [
      "[[0.  0. ]\n",
      " [0.  0. ]\n",
      " [0.  0. ]\n",
      " [0.  0. ]\n",
      " [0.  0. ]\n",
      " [0.  0. ]\n",
      " [0.  0. ]\n",
      " [0.  0. ]\n",
      " [0.  0. ]\n",
      " [0.  0. ]\n",
      " [0.5 0. ]\n",
      " [0.  0. ]\n",
      " [0.  0. ]\n",
      " [0.  0. ]\n",
      " [0.  0.5]\n",
      " [0.  0. ]\n",
      " [0.  0. ]\n",
      " [0.  0. ]\n",
      " [0.  0. ]\n",
      " [0.  0. ]\n",
      " [0.  0. ]\n",
      " [0.  0. ]\n",
      " [0.  0. ]\n",
      " [0.  0. ]\n",
      " [0.  0. ]\n",
      " [0.  0. ]\n",
      " [0.  0. ]\n",
      " [0.  0. ]\n",
      " [0.  0. ]\n",
      " [0.  0. ]\n",
      " [0.  0. ]\n",
      " [0.  0. ]\n",
      " [0.  0. ]\n",
      " [0.  0. ]\n",
      " [0.  0. ]\n",
      " [0.  0. ]\n",
      " [0.  0. ]\n",
      " [0.  0. ]\n",
      " [0.  0. ]\n",
      " [0.  0. ]\n",
      " [0.  0. ]\n",
      " [0.  0. ]\n",
      " [0.  0. ]\n",
      " [0.  0. ]\n",
      " [0.5 0. ]\n",
      " [0.  0. ]\n",
      " [0.  0. ]\n",
      " [0.  0. ]\n",
      " [0.  0.5]\n",
      " [0.  0.5]\n",
      " [0.  0. ]\n",
      " [0.  0. ]\n",
      " [0.  0. ]\n",
      " [0.  0. ]\n",
      " [0.  0. ]\n",
      " [0.  0. ]\n",
      " [0.  0. ]\n",
      " [0.  0. ]\n",
      " [0.  0. ]\n",
      " [0.  0. ]\n",
      " [0.  0. ]\n",
      " [0.  0. ]\n",
      " [0.  0. ]\n",
      " [0.  0. ]\n",
      " [0.  0. ]\n",
      " [0.  0. ]\n",
      " [0.  0. ]\n",
      " [0.  0. ]\n",
      " [0.5 0. ]\n",
      " [0.  0. ]\n",
      " [0.  0. ]\n",
      " [0.  0. ]\n",
      " [1.  0. ]\n",
      " [0.  0. ]\n",
      " [0.  0. ]\n",
      " [0.  0. ]\n",
      " [0.  0. ]\n",
      " [0.  0. ]\n",
      " [0.  0. ]\n",
      " [0.  0. ]\n",
      " [0.  0. ]\n",
      " [0.  0. ]\n",
      " [0.  0. ]\n",
      " [0.  0. ]\n",
      " [0.  0. ]\n",
      " [0.  0. ]\n",
      " [0.  0. ]\n",
      " [0.  0. ]\n",
      " [0.  0. ]\n",
      " [0.  0. ]\n",
      " [0.  0. ]\n",
      " [0.  0. ]\n",
      " [0.  0. ]\n",
      " [0.  0. ]\n",
      " [0.  0. ]\n",
      " [0.  0. ]\n",
      " [0.  0. ]\n",
      " [0.  0. ]\n",
      " [0.  0. ]\n",
      " [0.  0. ]\n",
      " [0.  0. ]\n",
      " [0.  0. ]\n",
      " [0.5 0. ]\n",
      " [0.  0. ]\n",
      " [0.  0. ]\n",
      " [0.  0. ]\n",
      " [0.  0.5]\n",
      " [0.5 0.5]\n",
      " [0.5 0.5]\n",
      " [0.5 0.5]\n",
      " [1.  1. ]\n",
      " [1.  1. ]\n",
      " [1.  1. ]\n",
      " [0.5 1. ]\n",
      " [1.  0.5]\n",
      " [0.5 0.5]\n",
      " [0.5 1. ]\n",
      " [1.  0.5]\n",
      " [1.  1. ]\n",
      " [0.5 1. ]\n",
      " [1.  0.5]\n",
      " [0.5 0.5]\n",
      " [0.5 0.5]\n",
      " [0.5 1. ]\n",
      " [1.  0.5]\n",
      " [1.  1. ]\n",
      " [0.5 1. ]\n",
      " [1.  0.5]\n",
      " [0.5 0.5]\n",
      " [0.5 1. ]\n",
      " [1.  0.5]\n",
      " [1.  1. ]\n",
      " [0.5 0.5]\n",
      " [0.5 0.5]\n",
      " [0.5 0.5]\n",
      " [1.  1. ]\n",
      " [1.  1. ]\n",
      " [1.  1. ]\n",
      " [0.5 1. ]\n",
      " [1.  0.5]\n",
      " [0.5 0.5]\n",
      " [0.5 1. ]\n",
      " [1.  0.5]\n",
      " [1.  1. ]\n",
      " [0.5 1. ]\n",
      " [1.  0.5]\n",
      " [0.5 0.5]\n",
      " [0.5 1. ]\n",
      " [1.  1. ]\n",
      " [1.  1. ]\n",
      " [1.  1. ]\n",
      " [1.  1. ]\n",
      " [1.  1. ]\n",
      " [1.  1. ]\n",
      " [1.  1. ]\n",
      " [0.  1. ]\n",
      " [1.  1. ]\n",
      " [1.  1. ]\n",
      " [0.5 1. ]\n",
      " [0.5 1. ]\n",
      " [0.5 1. ]\n",
      " [0.  1. ]\n",
      " [0.  1. ]\n",
      " [1.  1. ]\n",
      " [0.5 0.5]\n",
      " [0.  1. ]\n",
      " [1.  1. ]\n",
      " [0.5 1. ]\n",
      " [0.5 1. ]\n",
      " [0.5 1. ]\n",
      " [0.  1. ]\n",
      " [0.  1. ]\n",
      " [0.  1. ]\n",
      " [1.  1. ]\n",
      " [0.  1. ]\n",
      " [1.  1. ]\n",
      " [1.  1. ]\n",
      " [0.5 1. ]\n",
      " [0.5 1. ]\n",
      " [1.  1. ]\n",
      " [0.5 1. ]\n",
      " [0.5 0.5]\n",
      " [0.5 1. ]\n",
      " [0.  0.5]\n",
      " [0.5 0.5]\n",
      " [0.  1. ]\n",
      " [0.  0.5]\n",
      " [0.5 1. ]\n",
      " [0.5 0.5]\n",
      " [1.  1. ]\n",
      " [0.5 1. ]\n",
      " [0.5 0.5]\n",
      " [0.  1. ]\n",
      " [0.  1. ]\n",
      " [0.5 0.5]\n",
      " [1.  1. ]\n",
      " [0.5 1. ]\n",
      " [0.5 1. ]\n",
      " [0.5 1. ]\n",
      " [0.  1. ]\n",
      " [0.  1. ]\n",
      " [1.  1. ]\n",
      " [1.  1. ]\n",
      " [1.  1. ]\n",
      " [0.5 1. ]\n",
      " [0.5 1. ]\n",
      " [1.  1. ]\n",
      " [0.5 1. ]\n",
      " [0.5 0.5]\n",
      " [0.5 1. ]\n",
      " [0.  0.5]\n",
      " [0.5 1. ]\n",
      " [0.5 0.5]\n",
      " [0.  0.5]\n",
      " [0.5 0.5]\n",
      " [0.5 0.5]\n",
      " [0.5 0.5]\n",
      " [0.5 0.5]\n",
      " [1.  1. ]\n",
      " [1.  1. ]\n",
      " [1.  1. ]\n",
      " [0.5 1. ]\n",
      " [1.  0.5]\n",
      " [0.5 0.5]\n",
      " [0.5 1. ]\n",
      " [1.  0.5]\n",
      " [1.  1. ]\n",
      " [0.5 1. ]\n",
      " [1.  0.5]\n",
      " [0.5 0.5]\n",
      " [0.5 0.5]\n",
      " [0.5 1. ]\n",
      " [1.  0.5]\n",
      " [1.  1. ]\n",
      " [0.5 1. ]\n",
      " [1.  0.5]\n",
      " [0.5 0.5]\n",
      " [0.5 1. ]\n",
      " [1.  0.5]\n",
      " [1.  1. ]\n",
      " [0.5 0.5]\n",
      " [0.5 0.5]\n",
      " [0.5 0.5]\n",
      " [1.  1. ]\n",
      " [1.  1. ]\n",
      " [1.  1. ]\n",
      " [0.5 1. ]\n",
      " [1.  0.5]\n",
      " [0.5 0.5]\n",
      " [0.5 1. ]]\n"
     ]
    }
   ],
   "source": [
    "chi2_selector = SelectKBest(chi2, k=2)\n",
    "x = df.iloc[:,:6]\n",
    "y = df.iloc[:,-1]\n",
    "X_kbest = chi2_selector.fit_transform(x, y)\n",
    "print(X_kbest)"
   ]
  },
  {
   "cell_type": "code",
   "execution_count": 102,
   "id": "0bc7a333",
   "metadata": {},
   "outputs": [],
   "source": [
    "from sklearn.feature_selection import chi2\n",
    "chi_scores = chi2(x,y)"
   ]
  },
  {
   "cell_type": "code",
   "execution_count": 103,
   "id": "fbd6c46b",
   "metadata": {},
   "outputs": [
    {
     "data": {
      "text/plain": [
       "(array([ 4.22529844,  9.40719007, 60.23724218, 52.30725081, 82.1862519 ,\n",
       "         6.4581291 ]),\n",
       " array([3.98256148e-02, 2.16136200e-03, 8.40860779e-15, 4.74618793e-13,\n",
       "        1.23848345e-19, 1.10445872e-02]))"
      ]
     },
     "execution_count": 103,
     "metadata": {},
     "output_type": "execute_result"
    }
   ],
   "source": [
    "chi_scores"
   ]
  },
  {
   "cell_type": "code",
   "execution_count": 104,
   "id": "789cede3",
   "metadata": {},
   "outputs": [],
   "source": [
    "raw_data = {\"Features\": [\"Indstrial_Risk\",\"Management_Risk\",\"Financial_Flexibility\",\"Credibility\",\"Competitive\",\"Operating_Risk\"],\n",
    "            \"Corr_Score\": [-0.227823,-0.370838,0.751020,0.755909,0.899452,-0.279786],\n",
    "            \"Chi_Score\" :[ 4.22529844,  9.40719007, 60.23724218, 52.30725081, 82.1862519,6.4581291]}\n",
    "dataframe = pd.DataFrame(raw_data,columns =[\"Features\",\"Corr_Score\",\"Chi_Score\"])"
   ]
  },
  {
   "cell_type": "code",
   "execution_count": 105,
   "id": "6e982cc2",
   "metadata": {},
   "outputs": [
    {
     "data": {
      "text/html": [
       "<div>\n",
       "<style scoped>\n",
       "    .dataframe tbody tr th:only-of-type {\n",
       "        vertical-align: middle;\n",
       "    }\n",
       "\n",
       "    .dataframe tbody tr th {\n",
       "        vertical-align: top;\n",
       "    }\n",
       "\n",
       "    .dataframe thead th {\n",
       "        text-align: right;\n",
       "    }\n",
       "</style>\n",
       "<table border=\"1\" class=\"dataframe\">\n",
       "  <thead>\n",
       "    <tr style=\"text-align: right;\">\n",
       "      <th></th>\n",
       "      <th>Features</th>\n",
       "      <th>Corr_Score</th>\n",
       "      <th>Chi_Score</th>\n",
       "    </tr>\n",
       "  </thead>\n",
       "  <tbody>\n",
       "    <tr>\n",
       "      <th>0</th>\n",
       "      <td>Indstrial_Risk</td>\n",
       "      <td>-0.227823</td>\n",
       "      <td>4.225298</td>\n",
       "    </tr>\n",
       "    <tr>\n",
       "      <th>1</th>\n",
       "      <td>Management_Risk</td>\n",
       "      <td>-0.370838</td>\n",
       "      <td>9.407190</td>\n",
       "    </tr>\n",
       "    <tr>\n",
       "      <th>2</th>\n",
       "      <td>Financial_Flexibility</td>\n",
       "      <td>0.751020</td>\n",
       "      <td>60.237242</td>\n",
       "    </tr>\n",
       "    <tr>\n",
       "      <th>3</th>\n",
       "      <td>Credibility</td>\n",
       "      <td>0.755909</td>\n",
       "      <td>52.307251</td>\n",
       "    </tr>\n",
       "    <tr>\n",
       "      <th>4</th>\n",
       "      <td>Competitive</td>\n",
       "      <td>0.899452</td>\n",
       "      <td>82.186252</td>\n",
       "    </tr>\n",
       "    <tr>\n",
       "      <th>5</th>\n",
       "      <td>Operating_Risk</td>\n",
       "      <td>-0.279786</td>\n",
       "      <td>6.458129</td>\n",
       "    </tr>\n",
       "  </tbody>\n",
       "</table>\n",
       "</div>"
      ],
      "text/plain": [
       "                Features  Corr_Score  Chi_Score\n",
       "0         Indstrial_Risk   -0.227823   4.225298\n",
       "1        Management_Risk   -0.370838   9.407190\n",
       "2  Financial_Flexibility    0.751020  60.237242\n",
       "3            Credibility    0.755909  52.307251\n",
       "4            Competitive    0.899452  82.186252\n",
       "5         Operating_Risk   -0.279786   6.458129"
      ]
     },
     "execution_count": 105,
     "metadata": {},
     "output_type": "execute_result"
    }
   ],
   "source": [
    "dataframe"
   ]
  },
  {
   "cell_type": "code",
   "execution_count": 106,
   "id": "1e46a833",
   "metadata": {},
   "outputs": [],
   "source": [
    "import seaborn as sns\n",
    "from sklearn.decomposition import PCA\n",
    "from sklearn.preprocessing import scale \n"
   ]
  },
  {
   "cell_type": "code",
   "execution_count": 107,
   "id": "b9d5db0c",
   "metadata": {},
   "outputs": [],
   "source": [
    "pca = PCA(3)\n",
    "pca_values = pca.fit_transform(df.iloc[:,:6])"
   ]
  },
  {
   "cell_type": "code",
   "execution_count": 108,
   "id": "979b51b0",
   "metadata": {},
   "outputs": [
    {
     "data": {
      "text/plain": [
       "(250, 3)"
      ]
     },
     "execution_count": 108,
     "metadata": {},
     "output_type": "execute_result"
    }
   ],
   "source": [
    "pca_values.shape"
   ]
  },
  {
   "cell_type": "code",
   "execution_count": 109,
   "id": "a0978118",
   "metadata": {},
   "outputs": [],
   "source": [
    "finalDf = pd.DataFrame()\n",
    "finalDf[\"PC1\"] = pca_values[:,0]\n",
    "finalDf[\"PC2\"] = pca_values[:,1]\n",
    "finalDf[\"PC3\"] = pca_values[:,2]\n",
    "finalDf[\"Class\"] = df[\"Class\"]"
   ]
  },
  {
   "cell_type": "code",
   "execution_count": 110,
   "id": "d93703fe",
   "metadata": {},
   "outputs": [
    {
     "data": {
      "text/html": [
       "<div>\n",
       "<style scoped>\n",
       "    .dataframe tbody tr th:only-of-type {\n",
       "        vertical-align: middle;\n",
       "    }\n",
       "\n",
       "    .dataframe tbody tr th {\n",
       "        vertical-align: top;\n",
       "    }\n",
       "\n",
       "    .dataframe thead th {\n",
       "        text-align: right;\n",
       "    }\n",
       "</style>\n",
       "<table border=\"1\" class=\"dataframe\">\n",
       "  <thead>\n",
       "    <tr style=\"text-align: right;\">\n",
       "      <th></th>\n",
       "      <th>PC1</th>\n",
       "      <th>PC2</th>\n",
       "      <th>PC3</th>\n",
       "      <th>Class</th>\n",
       "    </tr>\n",
       "  </thead>\n",
       "  <tbody>\n",
       "    <tr>\n",
       "      <th>0</th>\n",
       "      <td>-0.776282</td>\n",
       "      <td>-0.251601</td>\n",
       "      <td>0.097381</td>\n",
       "      <td>0</td>\n",
       "    </tr>\n",
       "    <tr>\n",
       "      <th>1</th>\n",
       "      <td>-0.809888</td>\n",
       "      <td>-0.259465</td>\n",
       "      <td>-0.560320</td>\n",
       "      <td>0</td>\n",
       "    </tr>\n",
       "    <tr>\n",
       "      <th>2</th>\n",
       "      <td>-0.693722</td>\n",
       "      <td>-0.052835</td>\n",
       "      <td>-0.106603</td>\n",
       "      <td>0</td>\n",
       "    </tr>\n",
       "    <tr>\n",
       "      <th>3</th>\n",
       "      <td>-0.344739</td>\n",
       "      <td>-0.208961</td>\n",
       "      <td>-0.282620</td>\n",
       "      <td>0</td>\n",
       "    </tr>\n",
       "    <tr>\n",
       "      <th>4</th>\n",
       "      <td>-1.018241</td>\n",
       "      <td>0.318703</td>\n",
       "      <td>0.046195</td>\n",
       "      <td>0</td>\n",
       "    </tr>\n",
       "    <tr>\n",
       "      <th>...</th>\n",
       "      <td>...</td>\n",
       "      <td>...</td>\n",
       "      <td>...</td>\n",
       "      <td>...</td>\n",
       "    </tr>\n",
       "    <tr>\n",
       "      <th>245</th>\n",
       "      <td>0.707823</td>\n",
       "      <td>0.531912</td>\n",
       "      <td>-0.590856</td>\n",
       "      <td>1</td>\n",
       "    </tr>\n",
       "    <tr>\n",
       "      <th>246</th>\n",
       "      <td>0.547859</td>\n",
       "      <td>0.398323</td>\n",
       "      <td>0.806376</td>\n",
       "      <td>1</td>\n",
       "    </tr>\n",
       "    <tr>\n",
       "      <th>247</th>\n",
       "      <td>0.451710</td>\n",
       "      <td>-0.276899</td>\n",
       "      <td>0.051467</td>\n",
       "      <td>1</td>\n",
       "    </tr>\n",
       "    <tr>\n",
       "      <th>248</th>\n",
       "      <td>0.585506</td>\n",
       "      <td>-0.086628</td>\n",
       "      <td>0.714255</td>\n",
       "      <td>1</td>\n",
       "    </tr>\n",
       "    <tr>\n",
       "      <th>249</th>\n",
       "      <td>0.352006</td>\n",
       "      <td>0.456268</td>\n",
       "      <td>-0.182549</td>\n",
       "      <td>1</td>\n",
       "    </tr>\n",
       "  </tbody>\n",
       "</table>\n",
       "<p>250 rows × 4 columns</p>\n",
       "</div>"
      ],
      "text/plain": [
       "          PC1       PC2       PC3  Class\n",
       "0   -0.776282 -0.251601  0.097381      0\n",
       "1   -0.809888 -0.259465 -0.560320      0\n",
       "2   -0.693722 -0.052835 -0.106603      0\n",
       "3   -0.344739 -0.208961 -0.282620      0\n",
       "4   -1.018241  0.318703  0.046195      0\n",
       "..        ...       ...       ...    ...\n",
       "245  0.707823  0.531912 -0.590856      1\n",
       "246  0.547859  0.398323  0.806376      1\n",
       "247  0.451710 -0.276899  0.051467      1\n",
       "248  0.585506 -0.086628  0.714255      1\n",
       "249  0.352006  0.456268 -0.182549      1\n",
       "\n",
       "[250 rows x 4 columns]"
      ]
     },
     "execution_count": 110,
     "metadata": {},
     "output_type": "execute_result"
    }
   ],
   "source": [
    "finalDf"
   ]
  },
  {
   "cell_type": "code",
   "execution_count": 111,
   "id": "88850536",
   "metadata": {},
   "outputs": [
    {
     "data": {
      "text/plain": [
       "<BarContainer object of 3 artists>"
      ]
     },
     "execution_count": 111,
     "metadata": {},
     "output_type": "execute_result"
    },
    {
     "data": {
      "image/png": "[encoded data removed]",
      "text/plain": [
       "<Figure size 432x288 with 1 Axes>"
      ]
     },
     "metadata": {
      "needs_background": "light"
     },
     "output_type": "display_data"
    }
   ],
   "source": [
    "var = pca.explained_variance_ratio_\n",
    "var\n",
    "plt.bar(range(1,len(var)+1),var)"
   ]
  },
  {
   "cell_type": "code",
   "execution_count": 112,
   "id": "a134b1ba",
   "metadata": {},
   "outputs": [
    {
     "data": {
      "text/plain": [
       "array([0.43961362, 0.17897274, 0.15692774])"
      ]
     },
     "execution_count": 112,
     "metadata": {},
     "output_type": "execute_result"
    }
   ],
   "source": [
    "var"
   ]
  },
  {
   "cell_type": "code",
   "execution_count": 113,
   "id": "844a88a1",
   "metadata": {},
   "outputs": [],
   "source": [
    "from sklearn.linear_model import LogisticRegression\n",
    "from sklearn.model_selection import train_test_split\n",
    "from sklearn.metrics import accuracy_score"
   ]
  },
  {
   "cell_type": "code",
   "execution_count": 114,
   "id": "acf55aa2",
   "metadata": {},
   "outputs": [],
   "source": [
    "x_train,x_test,y_train,y_test=train_test_split(finalDf.iloc[:,:3],finalDf[\"Class\"],test_size=0.2)"
   ]
  },
  {
   "cell_type": "code",
   "execution_count": 115,
   "id": "a0a66406",
   "metadata": {},
   "outputs": [
    {
     "data": {
      "text/html": [
       "<div>\n",
       "<style scoped>\n",
       "    .dataframe tbody tr th:only-of-type {\n",
       "        vertical-align: middle;\n",
       "    }\n",
       "\n",
       "    .dataframe tbody tr th {\n",
       "        vertical-align: top;\n",
       "    }\n",
       "\n",
       "    .dataframe thead th {\n",
       "        text-align: right;\n",
       "    }\n",
       "</style>\n",
       "<table border=\"1\" class=\"dataframe\">\n",
       "  <thead>\n",
       "    <tr style=\"text-align: right;\">\n",
       "      <th></th>\n",
       "      <th>PC1</th>\n",
       "      <th>PC2</th>\n",
       "      <th>PC3</th>\n",
       "    </tr>\n",
       "  </thead>\n",
       "  <tbody>\n",
       "    <tr>\n",
       "      <th>0</th>\n",
       "      <td>-0.776282</td>\n",
       "      <td>-0.251601</td>\n",
       "      <td>0.097381</td>\n",
       "    </tr>\n",
       "    <tr>\n",
       "      <th>169</th>\n",
       "      <td>0.918470</td>\n",
       "      <td>-0.365613</td>\n",
       "      <td>0.123463</td>\n",
       "    </tr>\n",
       "    <tr>\n",
       "      <th>247</th>\n",
       "      <td>0.451710</td>\n",
       "      <td>-0.276899</td>\n",
       "      <td>0.051467</td>\n",
       "    </tr>\n",
       "    <tr>\n",
       "      <th>83</th>\n",
       "      <td>-0.580416</td>\n",
       "      <td>-0.429506</td>\n",
       "      <td>0.678682</td>\n",
       "    </tr>\n",
       "    <tr>\n",
       "      <th>134</th>\n",
       "      <td>-0.051033</td>\n",
       "      <td>0.136224</td>\n",
       "      <td>-0.575588</td>\n",
       "    </tr>\n",
       "    <tr>\n",
       "      <th>166</th>\n",
       "      <td>0.637253</td>\n",
       "      <td>0.828860</td>\n",
       "      <td>0.370102</td>\n",
       "    </tr>\n",
       "    <tr>\n",
       "      <th>213</th>\n",
       "      <td>0.462505</td>\n",
       "      <td>-0.525029</td>\n",
       "      <td>0.492830</td>\n",
       "    </tr>\n",
       "    <tr>\n",
       "      <th>188</th>\n",
       "      <td>0.689682</td>\n",
       "      <td>-0.375712</td>\n",
       "      <td>0.410998</td>\n",
       "    </tr>\n",
       "    <tr>\n",
       "      <th>225</th>\n",
       "      <td>1.021035</td>\n",
       "      <td>-0.515479</td>\n",
       "      <td>0.025909</td>\n",
       "    </tr>\n",
       "    <tr>\n",
       "      <th>85</th>\n",
       "      <td>-0.751805</td>\n",
       "      <td>-0.156150</td>\n",
       "      <td>-0.333461</td>\n",
       "    </tr>\n",
       "    <tr>\n",
       "      <th>236</th>\n",
       "      <td>0.389640</td>\n",
       "      <td>0.091276</td>\n",
       "      <td>0.132954</td>\n",
       "    </tr>\n",
       "    <tr>\n",
       "      <th>80</th>\n",
       "      <td>-0.534323</td>\n",
       "      <td>-0.821904</td>\n",
       "      <td>0.148567</td>\n",
       "    </tr>\n",
       "    <tr>\n",
       "      <th>211</th>\n",
       "      <td>0.535881</td>\n",
       "      <td>-0.217351</td>\n",
       "      <td>-0.358221</td>\n",
       "    </tr>\n",
       "    <tr>\n",
       "      <th>130</th>\n",
       "      <td>0.616817</td>\n",
       "      <td>0.240593</td>\n",
       "      <td>0.051122</td>\n",
       "    </tr>\n",
       "    <tr>\n",
       "      <th>235</th>\n",
       "      <td>0.372010</td>\n",
       "      <td>0.107636</td>\n",
       "      <td>-0.076118</td>\n",
       "    </tr>\n",
       "    <tr>\n",
       "      <th>25</th>\n",
       "      <td>-0.751805</td>\n",
       "      <td>-0.156150</td>\n",
       "      <td>-0.333461</td>\n",
       "    </tr>\n",
       "    <tr>\n",
       "      <th>20</th>\n",
       "      <td>-0.534323</td>\n",
       "      <td>-0.821904</td>\n",
       "      <td>0.148567</td>\n",
       "    </tr>\n",
       "    <tr>\n",
       "      <th>35</th>\n",
       "      <td>-0.344739</td>\n",
       "      <td>-0.208961</td>\n",
       "      <td>-0.282620</td>\n",
       "    </tr>\n",
       "    <tr>\n",
       "      <th>171</th>\n",
       "      <td>0.391251</td>\n",
       "      <td>-0.047941</td>\n",
       "      <td>-0.072750</td>\n",
       "    </tr>\n",
       "    <tr>\n",
       "      <th>239</th>\n",
       "      <td>0.658882</td>\n",
       "      <td>0.221050</td>\n",
       "      <td>-0.136795</td>\n",
       "    </tr>\n",
       "    <tr>\n",
       "      <th>82</th>\n",
       "      <td>-0.809888</td>\n",
       "      <td>-0.259465</td>\n",
       "      <td>-0.560320</td>\n",
       "    </tr>\n",
       "    <tr>\n",
       "      <th>215</th>\n",
       "      <td>0.549051</td>\n",
       "      <td>-0.797753</td>\n",
       "      <td>-0.019500</td>\n",
       "    </tr>\n",
       "    <tr>\n",
       "      <th>242</th>\n",
       "      <td>-0.051033</td>\n",
       "      <td>0.136224</td>\n",
       "      <td>-0.575588</td>\n",
       "    </tr>\n",
       "    <tr>\n",
       "      <th>161</th>\n",
       "      <td>0.449335</td>\n",
       "      <td>0.055374</td>\n",
       "      <td>0.154108</td>\n",
       "    </tr>\n",
       "    <tr>\n",
       "      <th>232</th>\n",
       "      <td>0.212599</td>\n",
       "      <td>0.996665</td>\n",
       "      <td>0.076336</td>\n",
       "    </tr>\n",
       "    <tr>\n",
       "      <th>1</th>\n",
       "      <td>-0.809888</td>\n",
       "      <td>-0.259465</td>\n",
       "      <td>-0.560320</td>\n",
       "    </tr>\n",
       "    <tr>\n",
       "      <th>23</th>\n",
       "      <td>-0.580416</td>\n",
       "      <td>-0.429506</td>\n",
       "      <td>0.678682</td>\n",
       "    </tr>\n",
       "    <tr>\n",
       "      <th>150</th>\n",
       "      <td>0.683359</td>\n",
       "      <td>0.316501</td>\n",
       "      <td>-0.567637</td>\n",
       "    </tr>\n",
       "    <tr>\n",
       "      <th>27</th>\n",
       "      <td>-0.485369</td>\n",
       "      <td>-0.631002</td>\n",
       "      <td>-0.713118</td>\n",
       "    </tr>\n",
       "    <tr>\n",
       "      <th>21</th>\n",
       "      <td>-0.647629</td>\n",
       "      <td>-0.445234</td>\n",
       "      <td>-0.636719</td>\n",
       "    </tr>\n",
       "    <tr>\n",
       "      <th>173</th>\n",
       "      <td>0.380468</td>\n",
       "      <td>0.080228</td>\n",
       "      <td>-0.921736</td>\n",
       "    </tr>\n",
       "    <tr>\n",
       "      <th>147</th>\n",
       "      <td>0.293922</td>\n",
       "      <td>0.352953</td>\n",
       "      <td>-0.409407</td>\n",
       "    </tr>\n",
       "    <tr>\n",
       "      <th>68</th>\n",
       "      <td>-0.791063</td>\n",
       "      <td>0.468020</td>\n",
       "      <td>-0.035637</td>\n",
       "    </tr>\n",
       "    <tr>\n",
       "      <th>212</th>\n",
       "      <td>0.689682</td>\n",
       "      <td>-0.375712</td>\n",
       "      <td>0.410998</td>\n",
       "    </tr>\n",
       "    <tr>\n",
       "      <th>249</th>\n",
       "      <td>0.352006</td>\n",
       "      <td>0.456268</td>\n",
       "      <td>-0.182549</td>\n",
       "    </tr>\n",
       "    <tr>\n",
       "      <th>16</th>\n",
       "      <td>-0.776282</td>\n",
       "      <td>-0.251601</td>\n",
       "      <td>0.097381</td>\n",
       "    </tr>\n",
       "    <tr>\n",
       "      <th>8</th>\n",
       "      <td>-0.497868</td>\n",
       "      <td>-0.110779</td>\n",
       "      <td>0.882322</td>\n",
       "    </tr>\n",
       "    <tr>\n",
       "      <th>237</th>\n",
       "      <td>0.431705</td>\n",
       "      <td>0.071733</td>\n",
       "      <td>-0.054964</td>\n",
       "    </tr>\n",
       "    <tr>\n",
       "      <th>175</th>\n",
       "      <td>0.787535</td>\n",
       "      <td>0.027417</td>\n",
       "      <td>-0.870895</td>\n",
       "    </tr>\n",
       "    <tr>\n",
       "      <th>77</th>\n",
       "      <td>-0.476240</td>\n",
       "      <td>-0.718589</td>\n",
       "      <td>0.375425</td>\n",
       "    </tr>\n",
       "    <tr>\n",
       "      <th>124</th>\n",
       "      <td>0.212599</td>\n",
       "      <td>0.996665</td>\n",
       "      <td>0.076336</td>\n",
       "    </tr>\n",
       "    <tr>\n",
       "      <th>121</th>\n",
       "      <td>-0.014578</td>\n",
       "      <td>0.847349</td>\n",
       "      <td>0.158167</td>\n",
       "    </tr>\n",
       "    <tr>\n",
       "      <th>28</th>\n",
       "      <td>-0.589545</td>\n",
       "      <td>-0.341919</td>\n",
       "      <td>-0.409860</td>\n",
       "    </tr>\n",
       "    <tr>\n",
       "      <th>135</th>\n",
       "      <td>0.983388</td>\n",
       "      <td>-0.030528</td>\n",
       "      <td>0.118030</td>\n",
       "    </tr>\n",
       "    <tr>\n",
       "      <th>86</th>\n",
       "      <td>-0.751805</td>\n",
       "      <td>-0.156150</td>\n",
       "      <td>-0.333461</td>\n",
       "    </tr>\n",
       "    <tr>\n",
       "      <th>245</th>\n",
       "      <td>0.707823</td>\n",
       "      <td>0.531912</td>\n",
       "      <td>-0.590856</td>\n",
       "    </tr>\n",
       "    <tr>\n",
       "      <th>70</th>\n",
       "      <td>-0.914064</td>\n",
       "      <td>0.029619</td>\n",
       "      <td>-0.257062</td>\n",
       "    </tr>\n",
       "    <tr>\n",
       "      <th>111</th>\n",
       "      <td>0.499471</td>\n",
       "      <td>1.110080</td>\n",
       "      <td>0.015658</td>\n",
       "    </tr>\n",
       "    <tr>\n",
       "      <th>97</th>\n",
       "      <td>-0.635651</td>\n",
       "      <td>0.170440</td>\n",
       "      <td>0.527879</td>\n",
       "    </tr>\n",
       "    <tr>\n",
       "      <th>40</th>\n",
       "      <td>-0.742675</td>\n",
       "      <td>-0.243737</td>\n",
       "      <td>0.755081</td>\n",
       "    </tr>\n",
       "  </tbody>\n",
       "</table>\n",
       "</div>"
      ],
      "text/plain": [
       "          PC1       PC2       PC3\n",
       "0   -0.776282 -0.251601  0.097381\n",
       "169  0.918470 -0.365613  0.123463\n",
       "247  0.451710 -0.276899  0.051467\n",
       "83  -0.580416 -0.429506  0.678682\n",
       "134 -0.051033  0.136224 -0.575588\n",
       "166  0.637253  0.828860  0.370102\n",
       "213  0.462505 -0.525029  0.492830\n",
       "188  0.689682 -0.375712  0.410998\n",
       "225  1.021035 -0.515479  0.025909\n",
       "85  -0.751805 -0.156150 -0.333461\n",
       "236  0.389640  0.091276  0.132954\n",
       "80  -0.534323 -0.821904  0.148567\n",
       "211  0.535881 -0.217351 -0.358221\n",
       "130  0.616817  0.240593  0.051122\n",
       "235  0.372010  0.107636 -0.076118\n",
       "25  -0.751805 -0.156150 -0.333461\n",
       "20  -0.534323 -0.821904  0.148567\n",
       "35  -0.344739 -0.208961 -0.282620\n",
       "171  0.391251 -0.047941 -0.072750\n",
       "239  0.658882  0.221050 -0.136795\n",
       "82  -0.809888 -0.259465 -0.560320\n",
       "215  0.549051 -0.797753 -0.019500\n",
       "242 -0.051033  0.136224 -0.575588\n",
       "161  0.449335  0.055374  0.154108\n",
       "232  0.212599  0.996665  0.076336\n",
       "1   -0.809888 -0.259465 -0.560320\n",
       "23  -0.580416 -0.429506  0.678682\n",
       "150  0.683359  0.316501 -0.567637\n",
       "27  -0.485369 -0.631002 -0.713118\n",
       "21  -0.647629 -0.445234 -0.636719\n",
       "173  0.380468  0.080228 -0.921736\n",
       "147  0.293922  0.352953 -0.409407\n",
       "68  -0.791063  0.468020 -0.035637\n",
       "212  0.689682 -0.375712  0.410998\n",
       "249  0.352006  0.456268 -0.182549\n",
       "16  -0.776282 -0.251601  0.097381\n",
       "8   -0.497868 -0.110779  0.882322\n",
       "237  0.431705  0.071733 -0.054964\n",
       "175  0.787535  0.027417 -0.870895\n",
       "77  -0.476240 -0.718589  0.375425\n",
       "124  0.212599  0.996665  0.076336\n",
       "121 -0.014578  0.847349  0.158167\n",
       "28  -0.589545 -0.341919 -0.409860\n",
       "135  0.983388 -0.030528  0.118030\n",
       "86  -0.751805 -0.156150 -0.333461\n",
       "245  0.707823  0.531912 -0.590856\n",
       "70  -0.914064  0.029619 -0.257062\n",
       "111  0.499471  1.110080  0.015658\n",
       "97  -0.635651  0.170440  0.527879\n",
       "40  -0.742675 -0.243737  0.755081"
      ]
     },
     "execution_count": 115,
     "metadata": {},
     "output_type": "execute_result"
    }
   ],
   "source": [
    "x_test"
   ]
  },
  {
   "cell_type": "code",
   "execution_count": 116,
   "id": "e00d4abe",
   "metadata": {},
   "outputs": [
    {
     "data": {
      "text/plain": [
       "LogisticRegression()"
      ]
     },
     "execution_count": 116,
     "metadata": {},
     "output_type": "execute_result"
    }
   ],
   "source": [
    "model=LogisticRegression()\n",
    "model.fit(x_train,y_train)"
   ]
  },
  {
   "cell_type": "code",
   "execution_count": 117,
   "id": "6299e17d",
   "metadata": {},
   "outputs": [],
   "source": [
    "# know how much information is there in the new pca features\n",
    "y_test_pred=model.predict(x_test)"
   ]
  },
  {
   "cell_type": "code",
   "execution_count": 118,
   "id": "3f399d9e",
   "metadata": {},
   "outputs": [
    {
     "data": {
      "text/plain": [
       "1.0"
      ]
     },
     "execution_count": 118,
     "metadata": {},
     "output_type": "execute_result"
    }
   ],
   "source": [
    "accuracy_score(y_test_pred,y_test) # 96 percent of information present in the new pca features"
   ]
  },
  {
   "cell_type": "code",
   "execution_count": 119,
   "id": "5983e17e",
   "metadata": {},
   "outputs": [],
   "source": [
    "PCA_data = [[\"PC1\", 0.43961362], [\"PC2\", 0.17897274], [\"PC3\", 0.15692774]]\n",
    "dataframe_2 = pd.DataFrame(PCA_data, columns = ['PCA_Features', 'PCA_Score'])"
   ]
  },
  {
   "cell_type": "code",
   "execution_count": 120,
   "id": "ecd6eecf",
   "metadata": {},
   "outputs": [
    {
     "data": {
      "text/html": [
       "<div>\n",
       "<style scoped>\n",
       "    .dataframe tbody tr th:only-of-type {\n",
       "        vertical-align: middle;\n",
       "    }\n",
       "\n",
       "    .dataframe tbody tr th {\n",
       "        vertical-align: top;\n",
       "    }\n",
       "\n",
       "    .dataframe thead th {\n",
       "        text-align: right;\n",
       "    }\n",
       "</style>\n",
       "<table border=\"1\" class=\"dataframe\">\n",
       "  <thead>\n",
       "    <tr style=\"text-align: right;\">\n",
       "      <th></th>\n",
       "      <th>PCA_Features</th>\n",
       "      <th>PCA_Score</th>\n",
       "    </tr>\n",
       "  </thead>\n",
       "  <tbody>\n",
       "    <tr>\n",
       "      <th>0</th>\n",
       "      <td>PC1</td>\n",
       "      <td>0.439614</td>\n",
       "    </tr>\n",
       "    <tr>\n",
       "      <th>1</th>\n",
       "      <td>PC2</td>\n",
       "      <td>0.178973</td>\n",
       "    </tr>\n",
       "    <tr>\n",
       "      <th>2</th>\n",
       "      <td>PC3</td>\n",
       "      <td>0.156928</td>\n",
       "    </tr>\n",
       "  </tbody>\n",
       "</table>\n",
       "</div>"
      ],
      "text/plain": [
       "  PCA_Features  PCA_Score\n",
       "0          PC1   0.439614\n",
       "1          PC2   0.178973\n",
       "2          PC3   0.156928"
      ]
     },
     "execution_count": 120,
     "metadata": {},
     "output_type": "execute_result"
    }
   ],
   "source": [
    "dataframe_2"
   ]
  },
  {
   "cell_type": "markdown",
   "id": "4fb973cb",
   "metadata": {},
   "source": [
    "## Build the model"
   ]
  },
  {
   "cell_type": "code",
   "execution_count": 121,
   "id": "d3ae6903",
   "metadata": {},
   "outputs": [],
   "source": [
    "import seaborn as sns\n",
    "from sklearn.model_selection import train_test_split\n",
    "from sklearn.metrics import confusion_matrix\n",
    "from sklearn.metrics import accuracy_score as ac"
   ]
  },
  {
   "cell_type": "code",
   "execution_count": 122,
   "id": "61810087",
   "metadata": {},
   "outputs": [],
   "source": [
    "df.drop([\"Indstrial_Risk\"],axis=1,inplace=True)"
   ]
  },
  {
   "cell_type": "code",
   "execution_count": 123,
   "id": "38365ca5",
   "metadata": {},
   "outputs": [],
   "source": [
    "df.drop([\"Management_Risk\"],axis=1,inplace=True)\n",
    "df.drop([\"Operating_Risk\"],axis=1,inplace=True)"
   ]
  },
  {
   "cell_type": "code",
   "execution_count": 124,
   "id": "93a140d7",
   "metadata": {},
   "outputs": [
    {
     "data": {
      "text/html": [
       "<div>\n",
       "<style scoped>\n",
       "    .dataframe tbody tr th:only-of-type {\n",
       "        vertical-align: middle;\n",
       "    }\n",
       "\n",
       "    .dataframe tbody tr th {\n",
       "        vertical-align: top;\n",
       "    }\n",
       "\n",
       "    .dataframe thead th {\n",
       "        text-align: right;\n",
       "    }\n",
       "</style>\n",
       "<table border=\"1\" class=\"dataframe\">\n",
       "  <thead>\n",
       "    <tr style=\"text-align: right;\">\n",
       "      <th></th>\n",
       "      <th>Financial_Flexibility</th>\n",
       "      <th>Credibility</th>\n",
       "      <th>Competitive</th>\n",
       "      <th>Class</th>\n",
       "    </tr>\n",
       "  </thead>\n",
       "  <tbody>\n",
       "    <tr>\n",
       "      <th>0</th>\n",
       "      <td>0.0</td>\n",
       "      <td>0.0</td>\n",
       "      <td>0.0</td>\n",
       "      <td>0</td>\n",
       "    </tr>\n",
       "    <tr>\n",
       "      <th>1</th>\n",
       "      <td>0.0</td>\n",
       "      <td>0.0</td>\n",
       "      <td>0.0</td>\n",
       "      <td>0</td>\n",
       "    </tr>\n",
       "    <tr>\n",
       "      <th>2</th>\n",
       "      <td>0.0</td>\n",
       "      <td>0.0</td>\n",
       "      <td>0.0</td>\n",
       "      <td>0</td>\n",
       "    </tr>\n",
       "    <tr>\n",
       "      <th>3</th>\n",
       "      <td>0.0</td>\n",
       "      <td>0.5</td>\n",
       "      <td>0.0</td>\n",
       "      <td>0</td>\n",
       "    </tr>\n",
       "    <tr>\n",
       "      <th>4</th>\n",
       "      <td>0.0</td>\n",
       "      <td>0.0</td>\n",
       "      <td>0.0</td>\n",
       "      <td>0</td>\n",
       "    </tr>\n",
       "  </tbody>\n",
       "</table>\n",
       "</div>"
      ],
      "text/plain": [
       "   Financial_Flexibility  Credibility  Competitive  Class\n",
       "0                    0.0          0.0          0.0      0\n",
       "1                    0.0          0.0          0.0      0\n",
       "2                    0.0          0.0          0.0      0\n",
       "3                    0.0          0.5          0.0      0\n",
       "4                    0.0          0.0          0.0      0"
      ]
     },
     "execution_count": 124,
     "metadata": {},
     "output_type": "execute_result"
    }
   ],
   "source": [
    "df.head()"
   ]
  },
  {
   "cell_type": "code",
   "execution_count": 125,
   "id": "9b8b8bbf",
   "metadata": {},
   "outputs": [
    {
     "data": {
      "text/html": [
       "<div>\n",
       "<style scoped>\n",
       "    .dataframe tbody tr th:only-of-type {\n",
       "        vertical-align: middle;\n",
       "    }\n",
       "\n",
       "    .dataframe tbody tr th {\n",
       "        vertical-align: top;\n",
       "    }\n",
       "\n",
       "    .dataframe thead th {\n",
       "        text-align: right;\n",
       "    }\n",
       "</style>\n",
       "<table border=\"1\" class=\"dataframe\">\n",
       "  <thead>\n",
       "    <tr style=\"text-align: right;\">\n",
       "      <th></th>\n",
       "      <th>Financial_Flexibility</th>\n",
       "      <th>Credibility</th>\n",
       "      <th>Competitive</th>\n",
       "      <th>Class</th>\n",
       "    </tr>\n",
       "  </thead>\n",
       "  <tbody>\n",
       "    <tr>\n",
       "      <th>245</th>\n",
       "      <td>1.0</td>\n",
       "      <td>1.0</td>\n",
       "      <td>1.0</td>\n",
       "      <td>1</td>\n",
       "    </tr>\n",
       "    <tr>\n",
       "      <th>246</th>\n",
       "      <td>0.5</td>\n",
       "      <td>1.0</td>\n",
       "      <td>1.0</td>\n",
       "      <td>1</td>\n",
       "    </tr>\n",
       "    <tr>\n",
       "      <th>247</th>\n",
       "      <td>1.0</td>\n",
       "      <td>0.5</td>\n",
       "      <td>0.5</td>\n",
       "      <td>1</td>\n",
       "    </tr>\n",
       "    <tr>\n",
       "      <th>248</th>\n",
       "      <td>0.5</td>\n",
       "      <td>1.0</td>\n",
       "      <td>0.5</td>\n",
       "      <td>1</td>\n",
       "    </tr>\n",
       "    <tr>\n",
       "      <th>249</th>\n",
       "      <td>0.5</td>\n",
       "      <td>0.5</td>\n",
       "      <td>1.0</td>\n",
       "      <td>1</td>\n",
       "    </tr>\n",
       "  </tbody>\n",
       "</table>\n",
       "</div>"
      ],
      "text/plain": [
       "     Financial_Flexibility  Credibility  Competitive  Class\n",
       "245                    1.0          1.0          1.0      1\n",
       "246                    0.5          1.0          1.0      1\n",
       "247                    1.0          0.5          0.5      1\n",
       "248                    0.5          1.0          0.5      1\n",
       "249                    0.5          0.5          1.0      1"
      ]
     },
     "execution_count": 125,
     "metadata": {},
     "output_type": "execute_result"
    }
   ],
   "source": [
    "df.tail()"
   ]
  },
  {
   "cell_type": "code",
   "execution_count": 126,
   "id": "e5a2d327",
   "metadata": {},
   "outputs": [
    {
     "data": {
      "text/plain": [
       "LogisticRegression()"
      ]
     },
     "execution_count": 126,
     "metadata": {},
     "output_type": "execute_result"
    }
   ],
   "source": [
    "x=df.iloc[:,0:3]\n",
    "y=df.iloc[:,-1]\n",
    "x_train,x_test,y_train,y_test=train_test_split(x,y,test_size=0.2)\n",
    "lr = LogisticRegression()\n",
    "\n",
    "lr.fit(x_train,y_train)"
   ]
  },
  {
   "cell_type": "code",
   "execution_count": 190,
   "id": "f9c568cd",
   "metadata": {},
   "outputs": [],
   "source": [
    "y_test_pred=lr.predict(x_test)"
   ]
  },
  {
   "cell_type": "code",
   "execution_count": null,
   "id": "061c2123",
   "metadata": {},
   "outputs": [],
   "source": []
  },
  {
   "cell_type": "code",
   "execution_count": null,
   "id": "7c2a4d21",
   "metadata": {},
   "outputs": [],
   "source": []
  },
  {
   "cell_type": "code",
   "execution_count": 128,
   "id": "e5041070",
   "metadata": {},
   "outputs": [
    {
     "data": {
      "text/plain": [
       "array([0, 1, 0, 0, 1, 1, 1, 0, 0, 1, 0, 1, 0, 1, 1, 1, 0, 0, 1, 0, 1, 1,\n",
       "       1, 1, 0, 0, 1, 1, 0, 1, 0, 0, 1, 1, 0, 1, 1, 0, 0, 0, 1, 1, 1, 0,\n",
       "       0, 1, 1, 1, 1, 0])"
      ]
     },
     "execution_count": 128,
     "metadata": {},
     "output_type": "execute_result"
    }
   ],
   "source": [
    "lr.predict(x_test)"
   ]
  },
  {
   "cell_type": "code",
   "execution_count": 129,
   "id": "e7c8b469",
   "metadata": {},
   "outputs": [
    {
     "data": {
      "text/plain": [
       "0.98"
      ]
     },
     "execution_count": 129,
     "metadata": {},
     "output_type": "execute_result"
    }
   ],
   "source": [
    "ac(y_test_pred,y_test)"
   ]
  },
  {
   "cell_type": "code",
   "execution_count": 184,
   "id": "239e505c",
   "metadata": {},
   "outputs": [
    {
     "name": "stdout",
     "output_type": "stream",
     "text": [
      "              precision    recall  f1-score   support\n",
      "\n",
      "           0       0.94      1.00      0.97        16\n",
      "           1       1.00      0.97      0.99        34\n",
      "\n",
      "    accuracy                           0.98        50\n",
      "   macro avg       0.97      0.99      0.98        50\n",
      "weighted avg       0.98      0.98      0.98        50\n",
      "\n"
     ]
    }
   ],
   "source": [
    "from sklearn.metrics import classification_report\n",
    "print(classification_report(y_test_pred,y_test))"
   ]
  },
  {
   "cell_type": "code",
   "execution_count": 187,
   "id": "d571117e",
   "metadata": {},
   "outputs": [],
   "source": [
    "\n",
    "with open('df.pkl','wb') as f:\n",
    "    pickle.dump(lr,f)\n",
    "lr_model = pickle.load(open('df.pkl','rb'))"
   ]
  },
  {
   "cell_type": "code",
   "execution_count": 131,
   "id": "82d6be38",
   "metadata": {},
   "outputs": [],
   "source": [
    "from sklearn.ensemble import RandomForestClassifier\n",
    "from sklearn.model_selection import train_test_split"
   ]
  },
  {
   "cell_type": "code",
   "execution_count": 132,
   "id": "3394017a",
   "metadata": {},
   "outputs": [],
   "source": [
    "x = df.iloc[:,0:3]\n",
    "y = df.iloc[:,-1]"
   ]
  },
  {
   "cell_type": "code",
   "execution_count": 133,
   "id": "a74aad7e",
   "metadata": {},
   "outputs": [],
   "source": [
    "x_train,x_test,y_train,y_test=train_test_split(x,y,test_size=0.3,random_state=50)"
   ]
  },
  {
   "cell_type": "code",
   "execution_count": 134,
   "id": "8ac126d8",
   "metadata": {},
   "outputs": [
    {
     "data": {
      "text/plain": [
       "RandomForestClassifier()"
      ]
     },
     "execution_count": 134,
     "metadata": {},
     "output_type": "execute_result"
    }
   ],
   "source": [
    "classifier = RandomForestClassifier()\n",
    "classifier.fit(x_train,y_train)"
   ]
  },
  {
   "cell_type": "code",
   "execution_count": 135,
   "id": "a376eb9e",
   "metadata": {},
   "outputs": [],
   "source": [
    "y_pred_classifier=classifier.predict(x_test)"
   ]
  },
  {
   "cell_type": "code",
   "execution_count": 136,
   "id": "27b7cf40",
   "metadata": {},
   "outputs": [
    {
     "data": {
      "text/plain": [
       "array([1, 0, 1, 0, 0, 1, 1, 0, 0, 0, 0, 1, 0, 1, 1, 1, 1, 1, 1, 1, 1, 1,\n",
       "       0, 0, 1, 0, 0, 0, 0, 1, 1, 1, 0, 0, 0, 0, 1, 1, 0, 1, 1, 1, 0, 0,\n",
       "       0, 0, 1, 1, 1, 1, 0, 1, 0, 1, 0, 0, 1, 1, 0, 1, 0, 0, 1, 1, 1, 1,\n",
       "       1, 1, 1, 0, 1, 0, 0, 1, 0])"
      ]
     },
     "execution_count": 136,
     "metadata": {},
     "output_type": "execute_result"
    }
   ],
   "source": [
    "classifier.predict(x_test)"
   ]
  },
  {
   "cell_type": "code",
   "execution_count": 137,
   "id": "dd00c74d",
   "metadata": {},
   "outputs": [
    {
     "data": {
      "text/plain": [
       "0.9866666666666667"
      ]
     },
     "execution_count": 137,
     "metadata": {},
     "output_type": "execute_result"
    }
   ],
   "source": [
    "ac(y_pred_classifier,y_test)"
   ]
  },
  {
   "cell_type": "code",
   "execution_count": 138,
   "id": "da522137",
   "metadata": {},
   "outputs": [
    {
     "name": "stdout",
     "output_type": "stream",
     "text": [
      "              precision    recall  f1-score   support\n",
      "\n",
      "           0       1.00      0.97      0.99        34\n",
      "           1       0.98      1.00      0.99        41\n",
      "\n",
      "    accuracy                           0.99        75\n",
      "   macro avg       0.99      0.99      0.99        75\n",
      "weighted avg       0.99      0.99      0.99        75\n",
      "\n"
     ]
    }
   ],
   "source": [
    "from sklearn.metrics import classification_report\n",
    "print(classification_report(y_pred_classifier,y_test))"
   ]
  },
  {
   "cell_type": "code",
   "execution_count": 139,
   "id": "c4c2e3a5",
   "metadata": {},
   "outputs": [],
   "source": [
    "from sklearn.ensemble import BaggingClassifier\n",
    "from sklearn.model_selection import train_test_split"
   ]
  },
  {
   "cell_type": "code",
   "execution_count": 140,
   "id": "bf533cfa",
   "metadata": {},
   "outputs": [],
   "source": [
    "x = df.iloc[:,0:3]\n",
    "y = df.iloc[:,-1]"
   ]
  },
  {
   "cell_type": "code",
   "execution_count": 141,
   "id": "0690a890",
   "metadata": {},
   "outputs": [],
   "source": [
    "x_train,x_test,y_train,y_test=train_test_split(x,y,test_size=0.3,random_state=50)"
   ]
  },
  {
   "cell_type": "code",
   "execution_count": 142,
   "id": "4b730d2c",
   "metadata": {},
   "outputs": [
    {
     "data": {
      "text/plain": [
       "BaggingClassifier()"
      ]
     },
     "execution_count": 142,
     "metadata": {},
     "output_type": "execute_result"
    }
   ],
   "source": [
    "classifier1 = BaggingClassifier()\n",
    "classifier1.fit(x_train,y_train)"
   ]
  },
  {
   "cell_type": "code",
   "execution_count": 143,
   "id": "8d03bdc5",
   "metadata": {},
   "outputs": [],
   "source": [
    "y_pred_bagging = classifier1.predict(x_test)"
   ]
  },
  {
   "cell_type": "code",
   "execution_count": 144,
   "id": "ed958030",
   "metadata": {},
   "outputs": [
    {
     "data": {
      "text/plain": [
       "array([1, 0, 1, 0, 0, 1, 1, 0, 0, 0, 0, 1, 0, 1, 1, 1, 1, 1, 1, 1, 1, 1,\n",
       "       0, 0, 1, 0, 0, 0, 0, 1, 1, 1, 0, 0, 0, 0, 1, 1, 0, 1, 1, 1, 0, 0,\n",
       "       0, 0, 1, 1, 1, 1, 0, 1, 0, 1, 0, 0, 1, 1, 0, 1, 0, 0, 1, 1, 1, 1,\n",
       "       1, 1, 1, 0, 1, 0, 0, 1, 0])"
      ]
     },
     "execution_count": 144,
     "metadata": {},
     "output_type": "execute_result"
    }
   ],
   "source": [
    "classifier1.predict(x_test)"
   ]
  },
  {
   "cell_type": "code",
   "execution_count": 145,
   "id": "3da91f15",
   "metadata": {},
   "outputs": [
    {
     "data": {
      "text/plain": [
       "0.9866666666666667"
      ]
     },
     "execution_count": 145,
     "metadata": {},
     "output_type": "execute_result"
    }
   ],
   "source": [
    "ac(y_pred_bagging,y_test)"
   ]
  },
  {
   "cell_type": "code",
   "execution_count": 146,
   "id": "d742b8ba",
   "metadata": {},
   "outputs": [
    {
     "name": "stdout",
     "output_type": "stream",
     "text": [
      "              precision    recall  f1-score   support\n",
      "\n",
      "           0       1.00      0.97      0.99        34\n",
      "           1       0.98      1.00      0.99        41\n",
      "\n",
      "    accuracy                           0.99        75\n",
      "   macro avg       0.99      0.99      0.99        75\n",
      "weighted avg       0.99      0.99      0.99        75\n",
      "\n"
     ]
    }
   ],
   "source": [
    "from sklearn.metrics import classification_report\n",
    "print(classification_report(y_pred_bagging,y_test))"
   ]
  },
  {
   "cell_type": "code",
   "execution_count": 147,
   "id": "0d818fbc",
   "metadata": {},
   "outputs": [],
   "source": [
    "# SVM Classification\n",
    "import pandas as pd\n",
    "import numpy as np\n",
    "\n",
    "from sklearn import svm\n",
    "from sklearn.svm import SVC\n",
    "from sklearn.model_selection import GridSearchCV\n",
    "from sklearn.metrics import classification_report\n",
    "\n",
    "\n",
    "from sklearn.metrics import accuracy_score, confusion_matrix\n",
    "from sklearn.model_selection import train_test_split, cross_val_score\n",
    "\n",
    "from matplotlib.colors import ListedColormap\n",
    "import matplotlib.pyplot as plt"
   ]
  },
  {
   "cell_type": "code",
   "execution_count": 148,
   "id": "08b1487c",
   "metadata": {},
   "outputs": [],
   "source": [
    "x_train,x_test,y_train,y_test=train_test_split(df.iloc[:,:3],df[\"Class\"],test_size=0.2)"
   ]
  },
  {
   "cell_type": "code",
   "execution_count": 149,
   "id": "407f7a0f",
   "metadata": {},
   "outputs": [
    {
     "name": "stdout",
     "output_type": "stream",
     "text": [
      "Accuracy = 100.0\n"
     ]
    },
    {
     "data": {
      "text/plain": [
       "array([[20,  0],\n",
       "       [ 0, 30]], dtype=int64)"
      ]
     },
     "execution_count": 149,
     "metadata": {},
     "output_type": "execute_result"
    }
   ],
   "source": [
    "clf = SVC(kernel=\"linear\",gamma=0.0001) #rbf or linear\n",
    "\n",
    "clf.fit(x_train , y_train)\n",
    "\n",
    "y_pred = clf.predict(x_test)\n",
    "\n",
    "acc = accuracy_score(y_test, y_pred) * 100\n",
    "\n",
    "print(\"Accuracy =\", acc)\n",
    "\n",
    "confusion_matrix(y_test, y_pred)"
   ]
  },
  {
   "cell_type": "code",
   "execution_count": 152,
   "id": "85e492e7",
   "metadata": {},
   "outputs": [],
   "source": [
    "import pandas as pd\n",
    "import matplotlib.pyplot as plt\n",
    "from sklearn import datasets  \n",
    "import numpy as np\n",
    "from sklearn.model_selection import train_test_split\n",
    "from sklearn.tree import  DecisionTreeClassifier\n",
    "from sklearn import tree\n",
    "from sklearn.metrics import classification_report\n",
    "from sklearn import preprocessing\n",
    "from sklearn import metrics"
   ]
  },
  {
   "cell_type": "code",
   "execution_count": 153,
   "id": "c79369cd",
   "metadata": {},
   "outputs": [],
   "source": [
    "x = df.iloc[:,0:3]\n",
    "y = df.iloc[:,-1]"
   ]
  },
  {
   "cell_type": "code",
   "execution_count": 154,
   "id": "a2314a3f",
   "metadata": {},
   "outputs": [],
   "source": [
    "# Splitting data into training and testing data set\n",
    "x_train, x_test,y_train,y_test = train_test_split(x,y, test_size=0.2)"
   ]
  },
  {
   "cell_type": "code",
   "execution_count": 155,
   "id": "a915c2fe",
   "metadata": {},
   "outputs": [
    {
     "data": {
      "text/plain": [
       "DecisionTreeClassifier(max_depth=4, min_samples_split=5)"
      ]
     },
     "execution_count": 155,
     "metadata": {},
     "output_type": "execute_result"
    }
   ],
   "source": [
    "model = DecisionTreeClassifier(criterion = 'gini',max_depth=4,min_samples_split=5)\n",
    "model.fit(x_train,y_train)"
   ]
  },
  {
   "cell_type": "code",
   "execution_count": 156,
   "id": "55ea9719",
   "metadata": {},
   "outputs": [
    {
     "data": {
      "text/plain": [
       "0    25\n",
       "1    25\n",
       "dtype: int64"
      ]
     },
     "execution_count": 156,
     "metadata": {},
     "output_type": "execute_result"
    }
   ],
   "source": [
    "#Predicting on test data\n",
    "preds = model.predict(x_test) # predicting on test data set \n",
    "pd.Series(preds).value_counts()"
   ]
  },
  {
   "cell_type": "code",
   "execution_count": 157,
   "id": "cfe1fc48",
   "metadata": {},
   "outputs": [
    {
     "data": {
      "text/plain": [
       "0.98"
      ]
     },
     "execution_count": 157,
     "metadata": {},
     "output_type": "execute_result"
    }
   ],
   "source": [
    "from sklearn import metrics\n",
    "metrics.accuracy_score(preds,y_test)"
   ]
  },
  {
   "cell_type": "code",
   "execution_count": 158,
   "id": "c30d625b",
   "metadata": {},
   "outputs": [],
   "source": [
    "from sklearn.tree import DecisionTreeClassifier\n",
    "model_gini = DecisionTreeClassifier(criterion='entropy', max_depth=3,)"
   ]
  },
  {
   "cell_type": "code",
   "execution_count": 159,
   "id": "e73e166e",
   "metadata": {},
   "outputs": [
    {
     "data": {
      "text/plain": [
       "DecisionTreeClassifier(criterion='entropy', max_depth=3)"
      ]
     },
     "execution_count": 159,
     "metadata": {},
     "output_type": "execute_result"
    }
   ],
   "source": [
    "model_gini.fit(x_train, y_train)"
   ]
  },
  {
   "cell_type": "code",
   "execution_count": 160,
   "id": "8af05c0e",
   "metadata": {},
   "outputs": [
    {
     "data": {
      "text/plain": [
       "0.98"
      ]
     },
     "execution_count": 160,
     "metadata": {},
     "output_type": "execute_result"
    }
   ],
   "source": [
    "#Prediction and computing the accuracy\n",
    "preds=model.predict(x_test)\n",
    "metrics.accuracy_score(preds,y_test)"
   ]
  },
  {
   "cell_type": "code",
   "execution_count": 161,
   "id": "0c54a3b6",
   "metadata": {},
   "outputs": [],
   "source": [
    "# Naive Base Classifer\n",
    "import numpy as np\n",
    "import pandas as pd\n",
    "import matplotlib.pyplot as plt\n",
    "from sklearn.model_selection import train_test_split # Import train_test_split function\n",
    "from sklearn import metrics #Import scikit-learn metrics module for accuracy calculation\n",
    "import seaborn as sns\n",
    "from sklearn.naive_bayes import GaussianNB,MultinomialNB,BernoulliNB"
   ]
  },
  {
   "cell_type": "code",
   "execution_count": 162,
   "id": "b135000c",
   "metadata": {},
   "outputs": [
    {
     "data": {
      "text/plain": [
       "Index(['Financial_Flexibility', 'Credibility', 'Competitive', 'Class'], dtype='object')"
      ]
     },
     "execution_count": 162,
     "metadata": {},
     "output_type": "execute_result"
    }
   ],
   "source": [
    "df.columns"
   ]
  },
  {
   "cell_type": "code",
   "execution_count": 163,
   "id": "1989264f",
   "metadata": {},
   "outputs": [],
   "source": [
    "data_x=df[[col for col in df.columns if col!=\"Class\"]]\n",
    "data_y=df[\"Class\"]"
   ]
  },
  {
   "cell_type": "code",
   "execution_count": 164,
   "id": "e7980857",
   "metadata": {},
   "outputs": [],
   "source": [
    "x_train, x_test, y_train, y_test = train_test_split(data_x, data_y,test_size=0.3, shuffle=True) \n",
    "\n"
   ]
  },
  {
   "cell_type": "code",
   "execution_count": 165,
   "id": "e64dcc27",
   "metadata": {},
   "outputs": [],
   "source": [
    "# Splitting data into training and testing data set\n",
    "x_train, x_test,y_train,y_test = train_test_split(x,y, test_size=0.2,shuffle=True)"
   ]
  },
  {
   "cell_type": "code",
   "execution_count": 166,
   "id": "61c3c20b",
   "metadata": {},
   "outputs": [],
   "source": [
    "from sklearn.naive_bayes import GaussianNB,MultinomialNB,BernoulliNB\n",
    "model=GaussianNB()\n",
    "model=model.fit(x_train,y_train)"
   ]
  },
  {
   "cell_type": "code",
   "execution_count": 167,
   "id": "d41484d0",
   "metadata": {},
   "outputs": [],
   "source": [
    "y_test_pred=model.predict(x_test)"
   ]
  },
  {
   "cell_type": "code",
   "execution_count": 168,
   "id": "55afd21e",
   "metadata": {},
   "outputs": [
    {
     "data": {
      "text/plain": [
       "0.98"
      ]
     },
     "execution_count": 168,
     "metadata": {},
     "output_type": "execute_result"
    }
   ],
   "source": [
    "metrics.accuracy_score(y_test,y_test_pred)"
   ]
  },
  {
   "cell_type": "code",
   "execution_count": 169,
   "id": "9e814819",
   "metadata": {},
   "outputs": [
    {
     "name": "stdout",
     "output_type": "stream",
     "text": [
      "0.992\n"
     ]
    }
   ],
   "source": [
    "# adaboost Classification\n",
    "from pandas import read_csv\n",
    "from sklearn.model_selection import KFold\n",
    "from sklearn.model_selection import cross_val_score\n",
    "from sklearn.ensemble import AdaBoostClassifier\n",
    "\n",
    "filename = 'bankruptcy-prevention.csv'\n",
    "names = [ 'Indstrial_Risk','Management_Risk','Financial_Flexibility',\n",
    "       'Credibility', 'Competitive','Operating_Risk''Class']\n",
    "      \n",
    "dataframe = read_csv(filename,sep=\";\")\n",
    "dataframe[\" class\"]=preprocessing.LabelEncoder().fit_transform(dataframe[\" class\"])\n",
    "array = dataframe.values\n",
    "\n",
    "X = array[:,2:5]\n",
    "Y = array[:,-1]\n",
    "num_trees = 100\n",
    "max_features = 3\n",
    "seed=7\n",
    "kfold = KFold(n_splits=10)\n",
    "\n",
    "model = AdaBoostClassifier(n_estimators=num_trees, learning_rate=0.8,random_state=seed)\n",
    "results = cross_val_score(model, X, Y, cv=kfold)\n",
    "print(results.mean())"
   ]
  },
  {
   "cell_type": "code",
   "execution_count": 170,
   "id": "d6e03d81",
   "metadata": {},
   "outputs": [
    {
     "name": "stdout",
     "output_type": "stream",
     "text": [
      "0.9879999999999999\n"
     ]
    }
   ],
   "source": [
    "# stacking ensemble Classification\n",
    "from pandas import read_csv\n",
    "from sklearn.model_selection import KFold\n",
    "from sklearn.model_selection import cross_val_score\n",
    "from sklearn.linear_model import LogisticRegression\n",
    "from sklearn.tree import DecisionTreeClassifier\n",
    "from sklearn.svm import SVC\n",
    "from sklearn.ensemble import VotingClassifier\n",
    "\n",
    "filename = 'bankruptcy-prevention.csv'\n",
    "names = [ 'Indstrial_Risk','Management_Risk','Financial_Flexibility',\n",
    "       'Credibility', 'Competitive','Operating_Risk''Class']\n",
    "      \n",
    "dataframe = read_csv(filename,sep=\";\")\n",
    "dataframe[\" class\"]=preprocessing.LabelEncoder().fit_transform(dataframe[\" class\"])\n",
    "array = dataframe.values\n",
    "\n",
    "X = array[:,2:5]\n",
    "Y = array[:,-1]\n",
    "num_trees = 100\n",
    "max_features = 3\n",
    "seed=7\n",
    "kfold = KFold(n_splits=10)\n",
    "\n",
    "# create the sub models\n",
    "estimators = []\n",
    "model1 = LogisticRegression(max_iter=500)\n",
    "estimators.append(('logistic', model1))\n",
    "model2 = DecisionTreeClassifier()\n",
    "estimators.append(('cart', model2))\n",
    "model3 = SVC()\n",
    "estimators.append(('svm', model3))\n",
    "\n",
    "# create the ensemble model\n",
    "ensemble = VotingClassifier(estimators)\n",
    "results = cross_val_score(ensemble, X, Y, cv=kfold)\n",
    "print(results.mean())"
   ]
  },
  {
   "cell_type": "code",
   "execution_count": 171,
   "id": "88ac3d1a",
   "metadata": {},
   "outputs": [
    {
     "name": "stdout",
     "output_type": "stream",
     "text": [
      "0.9960000000000001\n"
     ]
    }
   ],
   "source": [
    "# Random Forest Classification\n",
    "from pandas import read_csv\n",
    "from sklearn.model_selection import KFold\n",
    "from sklearn.model_selection import cross_val_score\n",
    "from sklearn.ensemble import RandomForestClassifier\n",
    "\n",
    "filename = 'bankruptcy-prevention.csv'\n",
    "names = [ 'Indstrial_Risk','Management_Risk','Financial_Flexibility',\n",
    "       'Credibility', 'Competitive','Operating_Risk''Class']\n",
    "      \n",
    "dataframe = read_csv(filename,sep=\";\")\n",
    "dataframe[\" class\"]=preprocessing.LabelEncoder().fit_transform(dataframe[\" class\"])\n",
    "array = dataframe.values\n",
    "\n",
    "X = array[:,2:5]\n",
    "Y = array[:,-1]\n",
    "num_trees = 100\n",
    "max_features = 3\n",
    "seed=7\n",
    "kfold = KFold(n_splits=10)\n",
    "\n",
    "model = RandomForestClassifier(n_estimators=num_trees, max_samples=0.8,max_features=max_features,random_state=seed)\n",
    "results = cross_val_score(model, X, Y, cv=kfold)\n",
    "print(results.mean())"
   ]
  },
  {
   "cell_type": "code",
   "execution_count": 172,
   "id": "700f435d",
   "metadata": {},
   "outputs": [],
   "source": [
    "raw_data2= {\"Cross_val\": [\"Ada_Boost\",\"Random_Forest\",\"Bagging\",\"Voting_Classifier\"],\n",
    "            \"Accuracy\": [0.992,0.992,0.992,0.992,]}\n",
    "dataframe2 = pd.DataFrame(raw_data2,columns =[\"Cross_val\",\"Accuracy\"])"
   ]
  },
  {
   "cell_type": "code",
   "execution_count": 173,
   "id": "98acf409",
   "metadata": {},
   "outputs": [
    {
     "data": {
      "text/html": [
       "<div>\n",
       "<style scoped>\n",
       "    .dataframe tbody tr th:only-of-type {\n",
       "        vertical-align: middle;\n",
       "    }\n",
       "\n",
       "    .dataframe tbody tr th {\n",
       "        vertical-align: top;\n",
       "    }\n",
       "\n",
       "    .dataframe thead th {\n",
       "        text-align: right;\n",
       "    }\n",
       "</style>\n",
       "<table border=\"1\" class=\"dataframe\">\n",
       "  <thead>\n",
       "    <tr style=\"text-align: right;\">\n",
       "      <th></th>\n",
       "      <th>Cross_val</th>\n",
       "      <th>Accuracy</th>\n",
       "    </tr>\n",
       "  </thead>\n",
       "  <tbody>\n",
       "    <tr>\n",
       "      <th>0</th>\n",
       "      <td>Ada_Boost</td>\n",
       "      <td>0.992</td>\n",
       "    </tr>\n",
       "    <tr>\n",
       "      <th>1</th>\n",
       "      <td>Random_Forest</td>\n",
       "      <td>0.992</td>\n",
       "    </tr>\n",
       "    <tr>\n",
       "      <th>2</th>\n",
       "      <td>Bagging</td>\n",
       "      <td>0.992</td>\n",
       "    </tr>\n",
       "    <tr>\n",
       "      <th>3</th>\n",
       "      <td>Voting_Classifier</td>\n",
       "      <td>0.992</td>\n",
       "    </tr>\n",
       "  </tbody>\n",
       "</table>\n",
       "</div>"
      ],
      "text/plain": [
       "           Cross_val  Accuracy\n",
       "0          Ada_Boost     0.992\n",
       "1      Random_Forest     0.992\n",
       "2            Bagging     0.992\n",
       "3  Voting_Classifier     0.992"
      ]
     },
     "execution_count": 173,
     "metadata": {},
     "output_type": "execute_result"
    }
   ],
   "source": [
    "dataframe2"
   ]
  },
  {
   "cell_type": "code",
   "execution_count": 188,
   "id": "8771395d",
   "metadata": {},
   "outputs": [],
   "source": [
    "raw_data1= {\"Classification\": [\"Logistic_Regression\",\"Random_Forest\",\"Bagging\",\"Naive Bayes\",\"Decision_tree\",\"SVM\"],\n",
    "            \"Accuracy\": [0.98,0.98,0.98,0.98,0.98,0.98]}\n",
    "dataframe1 = pd.DataFrame(raw_data,columns =[\"Classification\",\"Accuracy\"])"
   ]
  },
  {
   "cell_type": "code",
   "execution_count": 189,
   "id": "19cfb15f",
   "metadata": {},
   "outputs": [
    {
     "data": {
      "text/html": [
       "<div>\n",
       "<style scoped>\n",
       "    .dataframe tbody tr th:only-of-type {\n",
       "        vertical-align: middle;\n",
       "    }\n",
       "\n",
       "    .dataframe tbody tr th {\n",
       "        vertical-align: top;\n",
       "    }\n",
       "\n",
       "    .dataframe thead th {\n",
       "        text-align: right;\n",
       "    }\n",
       "</style>\n",
       "<table border=\"1\" class=\"dataframe\">\n",
       "  <thead>\n",
       "    <tr style=\"text-align: right;\">\n",
       "      <th></th>\n",
       "      <th>Classification</th>\n",
       "      <th>Accuracy</th>\n",
       "    </tr>\n",
       "  </thead>\n",
       "  <tbody>\n",
       "  </tbody>\n",
       "</table>\n",
       "</div>"
      ],
      "text/plain": [
       "Empty DataFrame\n",
       "Columns: [Classification, Accuracy]\n",
       "Index: []"
      ]
     },
     "execution_count": 189,
     "metadata": {},
     "output_type": "execute_result"
    }
   ],
   "source": [
    "dataframe1"
   ]
  },
  {
   "cell_type": "code",
   "execution_count": 177,
   "id": "62ea9d9a",
   "metadata": {},
   "outputs": [],
   "source": [
    "data = [{'Logistic': 1, 'Random_Forest': 1, 'Bagging':1},\n",
    "        {'Logistic': 0, 'Random_Forest': 0, 'Bagging':0},\n",
    "        {'Logistic': 1, 'Random_Forest': 1, 'Bagging':1},\n",
    "        {'Logistic': 0, 'Random_Forest': 0, 'Bagging':0},\n",
    "        {'Logistic': 0, 'Random_Forest': 0, 'Bagging':0},\n",
    "        {'Logistic': 1, 'Random_Forest': 1, 'Bagging':1},\n",
    "        {'Logistic': 1, 'Random_Forest': 1, 'Bagging':1},\n",
    "        {'Logistic': 0, 'Random_Forest': 0, 'Bagging':0},\n",
    "        {'Logistic': 0, 'Random_Forest': 0, 'Bagging':0},\n",
    "        {'Logistic': 0, 'Random_Forest': 0, 'Bagging':0}]"
   ]
  },
  {
   "cell_type": "code",
   "execution_count": 178,
   "id": "399b7048",
   "metadata": {},
   "outputs": [],
   "source": [
    "df1 = pd.DataFrame(data,\n",
    "                  columns = ['Logistic', 'Random_Forest','Bagging'])"
   ]
  },
  {
   "cell_type": "code",
   "execution_count": 179,
   "id": "7f9a6157",
   "metadata": {},
   "outputs": [
    {
     "data": {
      "text/html": [
       "<div>\n",
       "<style scoped>\n",
       "    .dataframe tbody tr th:only-of-type {\n",
       "        vertical-align: middle;\n",
       "    }\n",
       "\n",
       "    .dataframe tbody tr th {\n",
       "        vertical-align: top;\n",
       "    }\n",
       "\n",
       "    .dataframe thead th {\n",
       "        text-align: right;\n",
       "    }\n",
       "</style>\n",
       "<table border=\"1\" class=\"dataframe\">\n",
       "  <thead>\n",
       "    <tr style=\"text-align: right;\">\n",
       "      <th></th>\n",
       "      <th>Logistic</th>\n",
       "      <th>Random_Forest</th>\n",
       "      <th>Bagging</th>\n",
       "    </tr>\n",
       "  </thead>\n",
       "  <tbody>\n",
       "    <tr>\n",
       "      <th>0</th>\n",
       "      <td>1</td>\n",
       "      <td>1</td>\n",
       "      <td>1</td>\n",
       "    </tr>\n",
       "    <tr>\n",
       "      <th>1</th>\n",
       "      <td>0</td>\n",
       "      <td>0</td>\n",
       "      <td>0</td>\n",
       "    </tr>\n",
       "    <tr>\n",
       "      <th>2</th>\n",
       "      <td>1</td>\n",
       "      <td>1</td>\n",
       "      <td>1</td>\n",
       "    </tr>\n",
       "    <tr>\n",
       "      <th>3</th>\n",
       "      <td>0</td>\n",
       "      <td>0</td>\n",
       "      <td>0</td>\n",
       "    </tr>\n",
       "    <tr>\n",
       "      <th>4</th>\n",
       "      <td>0</td>\n",
       "      <td>0</td>\n",
       "      <td>0</td>\n",
       "    </tr>\n",
       "    <tr>\n",
       "      <th>5</th>\n",
       "      <td>1</td>\n",
       "      <td>1</td>\n",
       "      <td>1</td>\n",
       "    </tr>\n",
       "    <tr>\n",
       "      <th>6</th>\n",
       "      <td>1</td>\n",
       "      <td>1</td>\n",
       "      <td>1</td>\n",
       "    </tr>\n",
       "    <tr>\n",
       "      <th>7</th>\n",
       "      <td>0</td>\n",
       "      <td>0</td>\n",
       "      <td>0</td>\n",
       "    </tr>\n",
       "    <tr>\n",
       "      <th>8</th>\n",
       "      <td>0</td>\n",
       "      <td>0</td>\n",
       "      <td>0</td>\n",
       "    </tr>\n",
       "    <tr>\n",
       "      <th>9</th>\n",
       "      <td>0</td>\n",
       "      <td>0</td>\n",
       "      <td>0</td>\n",
       "    </tr>\n",
       "  </tbody>\n",
       "</table>\n",
       "</div>"
      ],
      "text/plain": [
       "   Logistic  Random_Forest  Bagging\n",
       "0         1              1        1\n",
       "1         0              0        0\n",
       "2         1              1        1\n",
       "3         0              0        0\n",
       "4         0              0        0\n",
       "5         1              1        1\n",
       "6         1              1        1\n",
       "7         0              0        0\n",
       "8         0              0        0\n",
       "9         0              0        0"
      ]
     },
     "execution_count": 179,
     "metadata": {},
     "output_type": "execute_result"
    }
   ],
   "source": [
    "df1"
   ]
  },
  {
   "cell_type": "code",
   "execution_count": 15,
   "id": "51f5d07d",
   "metadata": {},
   "outputs": [],
   "source": [
    "raw_data1= {\"Classification\": [\"Logistic_Regression\",\"Random_Forest\",\"Bagging\",\"Naive Bayes\",\"Decision_tree\",\"SVM\"],\n",
    "            \"Accuracy\": [0.98,0.98,0.98,0.98,0.98,0.98]}\n",
    "dataframe1 = pd.DataFrame(raw_data1,columns =[\"Classification\",\"Accuracy\"])"
   ]
  },
  {
   "cell_type": "code",
   "execution_count": 16,
   "id": "3dd83865",
   "metadata": {},
   "outputs": [
    {
     "data": {
      "text/html": [
       "<div>\n",
       "<style scoped>\n",
       "    .dataframe tbody tr th:only-of-type {\n",
       "        vertical-align: middle;\n",
       "    }\n",
       "\n",
       "    .dataframe tbody tr th {\n",
       "        vertical-align: top;\n",
       "    }\n",
       "\n",
       "    .dataframe thead th {\n",
       "        text-align: right;\n",
       "    }\n",
       "</style>\n",
       "<table border=\"1\" class=\"dataframe\">\n",
       "  <thead>\n",
       "    <tr style=\"text-align: right;\">\n",
       "      <th></th>\n",
       "      <th>Classification</th>\n",
       "      <th>Accuracy</th>\n",
       "    </tr>\n",
       "  </thead>\n",
       "  <tbody>\n",
       "    <tr>\n",
       "      <th>0</th>\n",
       "      <td>Logistic_Regression</td>\n",
       "      <td>0.98</td>\n",
       "    </tr>\n",
       "    <tr>\n",
       "      <th>1</th>\n",
       "      <td>Random_Forest</td>\n",
       "      <td>0.98</td>\n",
       "    </tr>\n",
       "    <tr>\n",
       "      <th>2</th>\n",
       "      <td>Bagging</td>\n",
       "      <td>0.98</td>\n",
       "    </tr>\n",
       "    <tr>\n",
       "      <th>3</th>\n",
       "      <td>Naive Bayes</td>\n",
       "      <td>0.98</td>\n",
       "    </tr>\n",
       "    <tr>\n",
       "      <th>4</th>\n",
       "      <td>Decision_tree</td>\n",
       "      <td>0.98</td>\n",
       "    </tr>\n",
       "    <tr>\n",
       "      <th>5</th>\n",
       "      <td>SVM</td>\n",
       "      <td>0.98</td>\n",
       "    </tr>\n",
       "  </tbody>\n",
       "</table>\n",
       "</div>"
      ],
      "text/plain": [
       "        Classification  Accuracy\n",
       "0  Logistic_Regression      0.98\n",
       "1        Random_Forest      0.98\n",
       "2              Bagging      0.98\n",
       "3          Naive Bayes      0.98\n",
       "4        Decision_tree      0.98\n",
       "5                  SVM      0.98"
      ]
     },
     "execution_count": 16,
     "metadata": {},
     "output_type": "execute_result"
    }
   ],
   "source": [
    "dataframe1frame1"
   ]
  },
  {
   "cell_type": "code",
   "execution_count": 17,
   "id": "e22d34e9",
   "metadata": {},
   "outputs": [],
   "source": [
    "raw_data2= {\"Cross_val\": [\"Ada_Boost\",\"Random_Forest\",\"Bagging\",\"Voting_Classifier\"],\n",
    "            \"Accuracy\": [0.992,0.992,0.992,0.992,]}\n",
    "dataframe2 = pd.DataFrame(raw_data2,columns =[\"Cross_val\",\"Accuracy\"])"
   ]
  },
  {
   "cell_type": "code",
   "execution_count": 18,
   "id": "de898ff4",
   "metadata": {},
   "outputs": [
    {
     "data": {
      "text/html": [
       "<div>\n",
       "<style scoped>\n",
       "    .dataframe tbody tr th:only-of-type {\n",
       "        vertical-align: middle;\n",
       "    }\n",
       "\n",
       "    .dataframe tbody tr th {\n",
       "        vertical-align: top;\n",
       "    }\n",
       "\n",
       "    .dataframe thead th {\n",
       "        text-align: right;\n",
       "    }\n",
       "</style>\n",
       "<table border=\"1\" class=\"dataframe\">\n",
       "  <thead>\n",
       "    <tr style=\"text-align: right;\">\n",
       "      <th></th>\n",
       "      <th>Cross_val</th>\n",
       "      <th>Accuracy</th>\n",
       "    </tr>\n",
       "  </thead>\n",
       "  <tbody>\n",
       "    <tr>\n",
       "      <th>0</th>\n",
       "      <td>Ada_Boost</td>\n",
       "      <td>0.992</td>\n",
       "    </tr>\n",
       "    <tr>\n",
       "      <th>1</th>\n",
       "      <td>Random_Forest</td>\n",
       "      <td>0.992</td>\n",
       "    </tr>\n",
       "    <tr>\n",
       "      <th>2</th>\n",
       "      <td>Bagging</td>\n",
       "      <td>0.992</td>\n",
       "    </tr>\n",
       "    <tr>\n",
       "      <th>3</th>\n",
       "      <td>Voting_Classifier</td>\n",
       "      <td>0.992</td>\n",
       "    </tr>\n",
       "  </tbody>\n",
       "</table>\n",
       "</div>"
      ],
      "text/plain": [
       "           Cross_val  Accuracy\n",
       "0          Ada_Boost     0.992\n",
       "1      Random_Forest     0.992\n",
       "2            Bagging     0.992\n",
       "3  Voting_Classifier     0.992"
      ]
     },
     "execution_count": 18,
     "metadata": {},
     "output_type": "execute_result"
    }
   ],
   "source": [
    "dataframe2"
   ]
  },
  {
   "cell_type": "code",
   "execution_count": null,
   "id": "f20be7c0",
   "metadata": {},
   "outputs": [],
   "source": []
  }
 ],
 "metadata": {
  "kernelspec": {
   "display_name": "Python 3 (ipykernel)",
   "language": "python",
   "name": "python3"
  },
  "language_info": {
   "codemirror_mode": {
    "name": "ipython",
    "version": 3
   },
   "file_extension": ".py",
   "mimetype": "text/x-python",
   "name": "python",
   "nbconvert_exporter": "python",
   "pygments_lexer": "ipython3",
   "version": "3.9.7"
  }
 },
 "nbformat": 4,
 "nbformat_minor": 5
}
